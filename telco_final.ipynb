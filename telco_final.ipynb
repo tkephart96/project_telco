{
 "cells": [
  {
   "cell_type": "markdown",
   "id": "397f2a43",
   "metadata": {},
   "source": [
    "# Project Telco\n",
    "\n",
    "* Learn to discern what turns customers to churn"
   ]
  },
  {
   "attachments": {},
   "cell_type": "markdown",
   "id": "2b2b68ae",
   "metadata": {},
   "source": [
    "## Goal\n",
    "\n",
    "* Discover drivers of churn of Telco customers\n",
    "* Use drivers to develop a machine learning model to classify churn as a customer ending their contract or not ending (renewing) their contract with Telco"
   ]
  },
  {
   "cell_type": "markdown",
   "id": "going-assembly",
   "metadata": {},
   "source": [
    "## Imports"
   ]
  },
  {
   "cell_type": "code",
   "execution_count": 1,
   "id": "divided-poster",
   "metadata": {},
   "outputs": [],
   "source": [
    "import warnings\n",
    "warnings.filterwarnings(\"ignore\")\n",
    "\n",
    "import wrangle as w\n",
    "import explore as e\n",
    "import model as m"
   ]
  },
  {
   "attachments": {},
   "cell_type": "markdown",
   "id": "criminal-glory",
   "metadata": {},
   "source": [
    "## Acquire\n",
    "\n",
    "* Data acquired from Codeup MySQL DB\n",
    "* Data initially acquired on 25 Apr 2023\n",
    "* It contained 7,043 rows and 21 columns before cleaning\n",
    "* Each row represents a unique customer of Telco\n",
    "* Each column represents an element of the customer account"
   ]
  },
  {
   "attachments": {},
   "cell_type": "markdown",
   "id": "impossible-bible",
   "metadata": {},
   "source": [
    "## Prepare\n",
    "\n",
    "**Prepare Actions**:\n",
    "\n",
    "* Removed columns that did not contain useful information\n",
    "* Renamed columns to promote readability\n",
    "* Checked for nulls in the data\n",
    "    - total_charges nulls matched tenure of 0, therefore changed nulls to 0\n",
    "* Checked that column data types were appropriate\n",
    "* Encoded categorical variables\n",
    "    - mapped 'Yes'/'No' to 1/0\n",
    "    - mapped gender 'Female'/'Male ot 1/0\n",
    "    - created dummy variables for other categorical variables\n",
    "* Split data into train, validate and test (approx. 60/20/20), stratifying on 'churn'\n",
    "* Outliers have not been removed for this iteration of the project"
   ]
  },
  {
   "cell_type": "code",
   "execution_count": 2,
   "id": "flexible-irrigation",
   "metadata": {},
   "outputs": [],
   "source": [
    "# acquire, clean, and prepare the data\n",
    "df = w.wrangle_telco_data()\n",
    "\n",
    "# split into train, validate, and test datasets\n",
    "train, validate, test = w.split_data(df, 'churn')"
   ]
  },
  {
   "attachments": {},
   "cell_type": "markdown",
   "id": "49e05ba4",
   "metadata": {},
   "source": [
    "#### A brief look at the data"
   ]
  },
  {
   "cell_type": "code",
   "execution_count": 3,
   "id": "cfb9a1da",
   "metadata": {},
   "outputs": [
    {
     "data": {
      "text/html": [
       "<div>\n",
       "<style scoped>\n",
       "    .dataframe tbody tr th:only-of-type {\n",
       "        vertical-align: middle;\n",
       "    }\n",
       "\n",
       "    .dataframe tbody tr th {\n",
       "        vertical-align: top;\n",
       "    }\n",
       "\n",
       "    .dataframe thead th {\n",
       "        text-align: right;\n",
       "    }\n",
       "</style>\n",
       "<table border=\"1\" class=\"dataframe\">\n",
       "  <thead>\n",
       "    <tr style=\"text-align: right;\">\n",
       "      <th></th>\n",
       "      <th>customer_id</th>\n",
       "      <th>gender</th>\n",
       "      <th>senior_citizen</th>\n",
       "      <th>partner</th>\n",
       "      <th>dependents</th>\n",
       "      <th>phone_service</th>\n",
       "      <th>multiple_lines</th>\n",
       "      <th>internet_service_type</th>\n",
       "      <th>online_security</th>\n",
       "      <th>online_backup</th>\n",
       "      <th>...</th>\n",
       "      <th>streaming_tv_Yes</th>\n",
       "      <th>streaming_movies_No internet service</th>\n",
       "      <th>streaming_movies_Yes</th>\n",
       "      <th>contract_type_One year</th>\n",
       "      <th>contract_type_Two year</th>\n",
       "      <th>internet_service_type_Fiber optic</th>\n",
       "      <th>internet_service_type_None</th>\n",
       "      <th>payment_type_Credit card (automatic)</th>\n",
       "      <th>payment_type_Electronic check</th>\n",
       "      <th>payment_type_Mailed check</th>\n",
       "    </tr>\n",
       "  </thead>\n",
       "  <tbody>\n",
       "    <tr>\n",
       "      <th>2332</th>\n",
       "      <td>3338-CVVEH</td>\n",
       "      <td>Male</td>\n",
       "      <td>0</td>\n",
       "      <td>0</td>\n",
       "      <td>0</td>\n",
       "      <td>1</td>\n",
       "      <td>Yes</td>\n",
       "      <td>Fiber optic</td>\n",
       "      <td>No</td>\n",
       "      <td>No</td>\n",
       "      <td>...</td>\n",
       "      <td>1</td>\n",
       "      <td>0</td>\n",
       "      <td>1</td>\n",
       "      <td>0</td>\n",
       "      <td>0</td>\n",
       "      <td>1</td>\n",
       "      <td>0</td>\n",
       "      <td>0</td>\n",
       "      <td>1</td>\n",
       "      <td>0</td>\n",
       "    </tr>\n",
       "    <tr>\n",
       "      <th>5275</th>\n",
       "      <td>7442-YGZFK</td>\n",
       "      <td>Male</td>\n",
       "      <td>0</td>\n",
       "      <td>0</td>\n",
       "      <td>0</td>\n",
       "      <td>1</td>\n",
       "      <td>Yes</td>\n",
       "      <td>DSL</td>\n",
       "      <td>No</td>\n",
       "      <td>No</td>\n",
       "      <td>...</td>\n",
       "      <td>0</td>\n",
       "      <td>0</td>\n",
       "      <td>0</td>\n",
       "      <td>0</td>\n",
       "      <td>0</td>\n",
       "      <td>0</td>\n",
       "      <td>0</td>\n",
       "      <td>1</td>\n",
       "      <td>0</td>\n",
       "      <td>0</td>\n",
       "    </tr>\n",
       "    <tr>\n",
       "      <th>6429</th>\n",
       "      <td>9102-OXKFY</td>\n",
       "      <td>Male</td>\n",
       "      <td>0</td>\n",
       "      <td>0</td>\n",
       "      <td>0</td>\n",
       "      <td>1</td>\n",
       "      <td>Yes</td>\n",
       "      <td>DSL</td>\n",
       "      <td>No</td>\n",
       "      <td>No</td>\n",
       "      <td>...</td>\n",
       "      <td>0</td>\n",
       "      <td>0</td>\n",
       "      <td>0</td>\n",
       "      <td>0</td>\n",
       "      <td>1</td>\n",
       "      <td>0</td>\n",
       "      <td>0</td>\n",
       "      <td>1</td>\n",
       "      <td>0</td>\n",
       "      <td>0</td>\n",
       "    </tr>\n",
       "    <tr>\n",
       "      <th>89</th>\n",
       "      <td>0141-YEAYS</td>\n",
       "      <td>Female</td>\n",
       "      <td>1</td>\n",
       "      <td>0</td>\n",
       "      <td>0</td>\n",
       "      <td>1</td>\n",
       "      <td>Yes</td>\n",
       "      <td>Fiber optic</td>\n",
       "      <td>No</td>\n",
       "      <td>Yes</td>\n",
       "      <td>...</td>\n",
       "      <td>0</td>\n",
       "      <td>0</td>\n",
       "      <td>0</td>\n",
       "      <td>0</td>\n",
       "      <td>0</td>\n",
       "      <td>1</td>\n",
       "      <td>0</td>\n",
       "      <td>0</td>\n",
       "      <td>0</td>\n",
       "      <td>0</td>\n",
       "    </tr>\n",
       "    <tr>\n",
       "      <th>6412</th>\n",
       "      <td>9079-YEXQJ</td>\n",
       "      <td>Female</td>\n",
       "      <td>0</td>\n",
       "      <td>0</td>\n",
       "      <td>0</td>\n",
       "      <td>1</td>\n",
       "      <td>Yes</td>\n",
       "      <td>Fiber optic</td>\n",
       "      <td>No</td>\n",
       "      <td>Yes</td>\n",
       "      <td>...</td>\n",
       "      <td>1</td>\n",
       "      <td>0</td>\n",
       "      <td>1</td>\n",
       "      <td>0</td>\n",
       "      <td>0</td>\n",
       "      <td>1</td>\n",
       "      <td>0</td>\n",
       "      <td>0</td>\n",
       "      <td>1</td>\n",
       "      <td>0</td>\n",
       "    </tr>\n",
       "  </tbody>\n",
       "</table>\n",
       "<p>5 rows × 43 columns</p>\n",
       "</div>"
      ],
      "text/plain": [
       "     customer_id  gender  senior_citizen  partner  dependents  phone_service  \\\n",
       "2332  3338-CVVEH    Male               0        0           0              1   \n",
       "5275  7442-YGZFK    Male               0        0           0              1   \n",
       "6429  9102-OXKFY    Male               0        0           0              1   \n",
       "89    0141-YEAYS  Female               1        0           0              1   \n",
       "6412  9079-YEXQJ  Female               0        0           0              1   \n",
       "\n",
       "     multiple_lines internet_service_type online_security online_backup  ...  \\\n",
       "2332            Yes           Fiber optic              No            No  ...   \n",
       "5275            Yes                   DSL              No            No  ...   \n",
       "6429            Yes                   DSL              No            No  ...   \n",
       "89              Yes           Fiber optic              No           Yes  ...   \n",
       "6412            Yes           Fiber optic              No           Yes  ...   \n",
       "\n",
       "     streaming_tv_Yes streaming_movies_No internet service  \\\n",
       "2332                1                                    0   \n",
       "5275                0                                    0   \n",
       "6429                0                                    0   \n",
       "89                  0                                    0   \n",
       "6412                1                                    0   \n",
       "\n",
       "     streaming_movies_Yes contract_type_One year contract_type_Two year  \\\n",
       "2332                    1                      0                      0   \n",
       "5275                    0                      0                      0   \n",
       "6429                    0                      0                      1   \n",
       "89                      0                      0                      0   \n",
       "6412                    1                      0                      0   \n",
       "\n",
       "     internet_service_type_Fiber optic  internet_service_type_None  \\\n",
       "2332                                 1                           0   \n",
       "5275                                 0                           0   \n",
       "6429                                 0                           0   \n",
       "89                                   1                           0   \n",
       "6412                                 1                           0   \n",
       "\n",
       "      payment_type_Credit card (automatic)  payment_type_Electronic check  \\\n",
       "2332                                     0                              1   \n",
       "5275                                     1                              0   \n",
       "6429                                     1                              0   \n",
       "89                                       0                              0   \n",
       "6412                                     0                              1   \n",
       "\n",
       "      payment_type_Mailed check  \n",
       "2332                          0  \n",
       "5275                          0  \n",
       "6429                          0  \n",
       "89                            0  \n",
       "6412                          0  \n",
       "\n",
       "[5 rows x 43 columns]"
      ]
     },
     "execution_count": 3,
     "metadata": {},
     "output_type": "execute_result"
    }
   ],
   "source": [
    "train.head()"
   ]
  },
  {
   "attachments": {},
   "cell_type": "markdown",
   "id": "immediate-mirror",
   "metadata": {},
   "source": [
    "## Explore\n",
    "\n",
    "* Is Churn independent from payment type?\n",
    "* Is Churn independent from internet Service type?\n",
    "* Is Churn independent from paperless billing?\n",
    "* Is there a difference in Churn based on monthly charges?"
   ]
  },
  {
   "cell_type": "markdown",
   "id": "5e3253e5",
   "metadata": {},
   "source": [
    "### 1) Is Churn independent from payment type?\n",
    "* $H_0$: Churn is independent from payment type\n",
    "* $H_a$: Churn is **NOT** independent from payment type\n",
    "* Discrete (churn) vs Discrete (payment_type) = $Chi^2$\n",
    "    - $Chi^2$ = 411.59356 \n",
    "    - $p$ = 6.820556e-89\n",
    "* `Churn` is **NOT** independent from `payment type`"
   ]
  },
  {
   "cell_type": "code",
   "execution_count": 5,
   "id": "3be56a33",
   "metadata": {},
   "outputs": [
    {
     "name": "stdout",
     "output_type": "stream",
     "text": [
      "Chi2: 411.5935596871652, p-value: 6.820556365758793e-89\n"
     ]
    },
    {
     "data": {
      "image/png": "[encoded data removed]",
      "text/plain": [
       "<Figure size 400x400 with 1 Axes>"
      ]
     },
     "metadata": {},
     "output_type": "display_data"
    }
   ],
   "source": [
    "# explore churn and payment type\n",
    "e.explore_cat(train,'churn','payment_type')"
   ]
  },
  {
   "cell_type": "markdown",
   "id": "425de098",
   "metadata": {},
   "source": [
    "**With an alpha of 0.05 (confidence 95%) the p-value is less than alpha. Therefore, evidence suggests that payment type and churn are not independent from each other. I believe that using `payment_type` in the modeling will have a positive impact on the accuracy.**"
   ]
  },
  {
   "cell_type": "markdown",
   "id": "d20ea396",
   "metadata": {},
   "source": [
    "### 2) Is Churn independent from internet Service type?\n",
    "* $H_0$: Churn is independent from internet service type\n",
    "* $H_a$: Churn is **NOT** independent from internet service type\n",
    "* Discrete (churn) vs Discrete (internet_service_type) = $Chi^2$\n",
    "    - $Chi^2$ = 402.162525\n",
    "    - $p$ = 4.693721e-88\n",
    "* `Churn` is **NOT** independent from `internet service type`"
   ]
  },
  {
   "cell_type": "code",
   "execution_count": 6,
   "id": "3c8a7336",
   "metadata": {},
   "outputs": [
    {
     "name": "stdout",
     "output_type": "stream",
     "text": [
      "Chi2: 402.162525170296, p-value: 4.693720719529299e-88\n"
     ]
    },
    {
     "data": {
      "image/png": "[encoded data removed]",
      "text/plain": [
       "<Figure size 400x400 with 1 Axes>"
      ]
     },
     "metadata": {},
     "output_type": "display_data"
    }
   ],
   "source": [
    "# explore churn and internet service type\n",
    "e.explore_cat(train,'churn','internet_service_type')"
   ]
  },
  {
   "cell_type": "markdown",
   "id": "048ed184",
   "metadata": {},
   "source": [
    "**With an alpha of 0.05 (confidence 95%) the p-value is less than alpha. Therefore, evidence suggests that internet service type and churn are not independent from each other. I believe that using `internet_service_type` in the modeling will have a positive impact on the accuracy.**"
   ]
  },
  {
   "cell_type": "markdown",
   "id": "617eb9f9",
   "metadata": {},
   "source": [
    "### 3) Is Churn independent from paperless billing?\n",
    "* $H_0$: Churn is independent from paperless billing\n",
    "* $H_a$: Churn is **NOT** independent from paperless billing\n",
    "* Discrete (churn) vs Discrete (paperless billing) = $Chi^2$\n",
    "    - $Chi^2$ = 174.0170668905212\n",
    "    - $p$ = 9.814255558186946e-40\n",
    "* `Churn` is **NOT** independent from `paperless billing`"
   ]
  },
  {
   "cell_type": "code",
   "execution_count": 7,
   "id": "68e93af6",
   "metadata": {},
   "outputs": [
    {
     "name": "stdout",
     "output_type": "stream",
     "text": [
      "Chi2: 174.0170668905212, p-value: 9.814255558186946e-40\n"
     ]
    },
    {
     "data": {
      "image/png": "[encoded data removed]",
      "text/plain": [
       "<Figure size 400x400 with 1 Axes>"
      ]
     },
     "metadata": {},
     "output_type": "display_data"
    }
   ],
   "source": [
    "# explore churn and paperless billing\n",
    "e.explore_int(train,'churn','paperless_billing')"
   ]
  },
  {
   "cell_type": "markdown",
   "id": "6c2cda2f",
   "metadata": {},
   "source": [
    "**With an alpha of 0.05 (confidence 95%) the p-value is less than alpha. Therefore, evidence suggests that paperless billing and churn are not independent from each other. I believe that using `paperless_billing` in the modeling will have a positive impact on the accuracy.**"
   ]
  },
  {
   "attachments": {},
   "cell_type": "markdown",
   "id": "c97800d0",
   "metadata": {},
   "source": [
    "### 4) Is there a difference in Churn based on monthly charges?\n",
    "* $H_0$: There is **NO** difference in Churn based on monthly charges\n",
    "* $H_a$: There is a difference in Churn based on monthly charges\n",
    "* Discrete (churn) vs Continuous (monthly_charges) = $Mann$-$Whitney$ $U$\n",
    "    - $Mann$-$Whitney$ $U$ statistic = 1351248.0\n",
    "    - $p$ = 1.261599899747347e-28\n",
    "* There is a difference in `Churn` based on `monthly charges`"
   ]
  },
  {
   "cell_type": "code",
   "execution_count": 8,
   "id": "a767abf5",
   "metadata": {},
   "outputs": [
    {
     "name": "stdout",
     "output_type": "stream",
     "text": [
      "monthly_charges \n",
      "____________________\n",
      "Mann-Whitney Test:\n",
      " stat = 2128336.0, p = 1.261599899747347e-28\n",
      "____________________\n"
     ]
    },
    {
     "data": {
      "image/png": "[encoded data removed]",
      "text/plain": [
       "<Figure size 400x400 with 1 Axes>"
      ]
     },
     "metadata": {},
     "output_type": "display_data"
    }
   ],
   "source": [
    "# explore churn and monthly charges\n",
    "e.explore_bivariate_quant(train,'churn','monthly_charges')"
   ]
  },
  {
   "attachments": {},
   "cell_type": "markdown",
   "id": "2d8b78c9",
   "metadata": {},
   "source": [
    "#### 4.1) Is monthly charges higher on average for customers churned compared to those who have not churned?\n",
    "* $H_0$: Churned has **lower or equal** monthly charges\n",
    "* $H_a$: Churned has **higher** monthly charges\n",
    "* Discrete (churn) vs Continuous (monthly_charges) = $Mann$-$Whitney$ $U$\n",
    "    - $Mann$-$Whitney$ $U$ statistic = 2128336.0\n",
    "    - $p$ = 6.307999498736735e-29\n",
    "* The `monthly charges` on average is **higher** for `Churn`"
   ]
  },
  {
   "cell_type": "code",
   "execution_count": 9,
   "id": "46ffe6dc",
   "metadata": {},
   "outputs": [
    {
     "name": "stdout",
     "output_type": "stream",
     "text": [
      "Mann-Whitney Test:\n",
      " stat = 2128336.0, p = 6.307999498736735e-29\n"
     ]
    }
   ],
   "source": [
    "# compare means for greater than of monthly charges for churn\n",
    "e.compare_means(train,'churn','monthly_charges','greater')"
   ]
  },
  {
   "attachments": {},
   "cell_type": "markdown",
   "id": "bc6a45cb",
   "metadata": {},
   "source": [
    "**With an alpha of 0.05 (confidence 95%) the p-value is less than alpha. Therefore, evidence suggests that there is a difference in monthly charges between churned and active customers. In fact, monthly charges is greater on average for customers who have churned compared to monthly charges of customers who haven't. I believe that using `monthly_charges` in the modeling will have a positive impact on the accuracy.**"
   ]
  },
  {
   "attachments": {},
   "cell_type": "markdown",
   "id": "c04d05e4",
   "metadata": {},
   "source": [
    "## Exploration Summary\n",
    "* Payment type was found to be a driver of churn\n",
    "    - Electronic check payment being the most common among churn\n",
    "* Internet service type was found to be a driver of churn\n",
    "    - Fiber optic internet being the most common among churn\n",
    "* Paperless billing was found to be a driver of churn\n",
    "    - Having paperless billing being the most common among churn\n",
    "* Monthly charges was found to be a driver of churn\n",
    "    - Higher average monthly charges amongst churn\n"
   ]
  },
  {
   "attachments": {},
   "cell_type": "markdown",
   "id": "77e7fde6",
   "metadata": {},
   "source": [
    "### Features for modeling\n",
    "* Features that will be used:\n",
    "    - churn (target)\n",
    "* Some features that may be useful:\n",
    "    - payment type\n",
    "    - internet service type\n",
    "    - paperless billing\n",
    "    - monthly charges"
   ]
  },
  {
   "cell_type": "markdown",
   "id": "minus-tulsa",
   "metadata": {},
   "source": [
    "## Modeling"
   ]
  },
  {
   "attachments": {},
   "cell_type": "markdown",
   "id": "hydraulic-spectrum",
   "metadata": {},
   "source": [
    "* Accuracy will be the evaluation metric\n",
    "    - Given more time I can evaluate with other metrics\n",
    "* Target feature is Churn\n",
    "    - 27% Churn\n",
    "    - 73% Active\n",
    "* Guessing Active for every customer gives an accuracy of 73%\n",
    "    - 73% will be the baseline accuracy\n",
    "* Models will be developed and evaluated using 4 different model types, various features, and various hyperparameter configurations\n",
    "    - Decision Tree\n",
    "    - Random Forest\n",
    "    - KNN\n",
    "    - Logistic Regression\n",
    "* Models will be evaluated on train and validate datasets\n",
    "* Best performing model will be the only one evaluated on the test dataset"
   ]
  },
  {
   "cell_type": "code",
   "execution_count": 10,
   "id": "ranging-rebecca",
   "metadata": {},
   "outputs": [
    {
     "name": "stdout",
     "output_type": "stream",
     "text": [
      "Baseline: 73.47% Accuracy\n"
     ]
    }
   ],
   "source": [
    "# get baseline accuracy\n",
    "e.baseline(train.churn)"
   ]
  },
  {
   "attachments": {},
   "cell_type": "markdown",
   "id": "emotional-purchase",
   "metadata": {},
   "source": [
    "### Best of 4 Model Types"
   ]
  },
  {
   "attachments": {},
   "cell_type": "markdown",
   "id": "intensive-vietnamese",
   "metadata": {},
   "source": [
    "#### Decision Tree"
   ]
  },
  {
   "cell_type": "code",
   "execution_count": 11,
   "id": "e8efa85b",
   "metadata": {},
   "outputs": [
    {
     "name": "stdout",
     "output_type": "stream",
     "text": [
      "Decision Tree \n",
      "\n",
      "Accuracy on train: 80.64 \n",
      "\n",
      "Accuracy on validate: 78.14\n"
     ]
    }
   ],
   "source": [
    "# get decision tree results\n",
    "m.val_dt()"
   ]
  },
  {
   "attachments": {},
   "cell_type": "markdown",
   "id": "ff3df1eb",
   "metadata": {},
   "source": [
    "#### Random Forest"
   ]
  },
  {
   "cell_type": "code",
   "execution_count": 12,
   "id": "6faccc6a",
   "metadata": {},
   "outputs": [
    {
     "name": "stdout",
     "output_type": "stream",
     "text": [
      "Random Forest \n",
      "\n",
      "Accuracy on train: 82.98 \n",
      "\n",
      "Accuracy on validate: 78.92\n"
     ]
    }
   ],
   "source": [
    "# get random forest results\n",
    "m.val_rf()"
   ]
  },
  {
   "attachments": {},
   "cell_type": "markdown",
   "id": "1c45558e",
   "metadata": {},
   "source": [
    "#### KNN"
   ]
  },
  {
   "cell_type": "code",
   "execution_count": 13,
   "id": "c955323a",
   "metadata": {},
   "outputs": [
    {
     "name": "stdout",
     "output_type": "stream",
     "text": [
      "K Nearest Neighbors \n",
      "\n",
      "Accuracy on train: 80.54 \n",
      "\n",
      "Accuracy on validate: 77.29\n"
     ]
    }
   ],
   "source": [
    "# get knn results\n",
    "m.val_knn()"
   ]
  },
  {
   "attachments": {},
   "cell_type": "markdown",
   "id": "ba0713db",
   "metadata": {},
   "source": [
    "#### Logistic Regression"
   ]
  },
  {
   "cell_type": "code",
   "execution_count": 14,
   "id": "9ebb6b66",
   "metadata": {},
   "outputs": [
    {
     "name": "stdout",
     "output_type": "stream",
     "text": [
      "Logistic Regression \n",
      "\n",
      "Accuracy on train: 79.72 \n",
      "\n",
      "Accuracy on validate: 78.57\n"
     ]
    }
   ],
   "source": [
    "# get logistic regression results\n",
    "m.val_lr()"
   ]
  },
  {
   "attachments": {},
   "cell_type": "markdown",
   "id": "regulated-fellowship",
   "metadata": {},
   "source": [
    "### Logistic Regression on Test\n",
    "* Logistic Regression seemed to be the best fit with the least amount of difference between train and validate accuracy"
   ]
  },
  {
   "cell_type": "code",
   "execution_count": 15,
   "id": "optical-quilt",
   "metadata": {},
   "outputs": [
    {
     "name": "stdout",
     "output_type": "stream",
     "text": [
      "Logistic Regression \n",
      "\n",
      "Accuracy on test: 80.7 \n",
      "\n"
     ]
    }
   ],
   "source": [
    "# get test results for final model\n",
    "m.test_model()"
   ]
  },
  {
   "attachments": {},
   "cell_type": "markdown",
   "id": "bright-evans",
   "metadata": {},
   "source": [
    "### Modeling Wrap \n",
    "* Decision Tree, Random Forest, and KNN had between 2.5-4% difference for train and validate\n",
    "* Logistic Regression had about 1% difference for train and validate, best overall\n",
    "* With the test done on Logistic Regression, we get an 80.7% accuracy\n",
    "    - 80.7% is higher than our baseline of 73.47%"
   ]
  },
  {
   "attachments": {},
   "cell_type": "markdown",
   "id": "tutorial-twelve",
   "metadata": {},
   "source": [
    "## Conclusion\n",
    "\n",
    "### Takeaways and Key Findings\n",
    "* Payment type was found to be a driver of churn\n",
    "  - Electronic check being the most common among churn\n",
    "* Fiber optic internet being a driver of churn was surprising considering it has faster internet speeds\n",
    "* Paperless billing was found to be a driver of churn\n",
    "    - Having it enabled was the most common among churn\n",
    "* Monthly charges was found to be a driver of churn, higher charges for churn\n",
    "\n",
    "### Recommendations\n",
    "* Check with the finance department to figure out if there are issues with electronic check\n",
    "* Check with internet department to see if there are frequent issues with Fiber optic internet\n",
    "\n",
    "### Next Steps\n",
    "* Given more time I could check what is causing the high monthly charges that lead to customers churning"
   ]
  },
  {
   "cell_type": "markdown",
   "id": "204f8162",
   "metadata": {},
   "source": []
  }
 ],
 "metadata": {
  "kernelspec": {
   "display_name": "Python 3",
   "language": "python",
   "name": "python3"
  },
  "language_info": {
   "codemirror_mode": {
    "name": "ipython",
    "version": 3
   },
   "file_extension": ".py",
   "mimetype": "text/x-python",
   "name": "python",
   "nbconvert_exporter": "python",
   "pygments_lexer": "ipython3",
   "version": "3.9.13"
  }
 },
 "nbformat": 4,
 "nbformat_minor": 5
}
