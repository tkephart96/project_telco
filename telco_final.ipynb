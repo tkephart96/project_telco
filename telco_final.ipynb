{
 "cells": [
  {
   "cell_type": "markdown",
   "id": "397f2a43",
   "metadata": {},
   "source": [
    "# Project Telco\n",
    "\n",
    "* Learn to discern what turns customers to churn"
   ]
  },
  {
   "attachments": {},
   "cell_type": "markdown",
   "id": "2b2b68ae",
   "metadata": {},
   "source": [
    "## Goal\n",
    "\n",
    "* Discover drivers of churn of Telco customers\n",
    "* Use drivers to develop a machine learning model to classify churn as a customer ending their contract or not ending (renewing) their contract with Telco"
   ]
  },
  {
   "cell_type": "markdown",
   "id": "going-assembly",
   "metadata": {},
   "source": [
    "## Imports"
   ]
  },
  {
   "cell_type": "code",
   "execution_count": 1,
   "id": "divided-poster",
   "metadata": {},
   "outputs": [],
   "source": [
    "import warnings\n",
    "warnings.filterwarnings(\"ignore\")\n",
    "\n",
    "import wrangle as w\n",
    "import explore as e\n",
    "import model as m"
   ]
  },
  {
   "attachments": {},
   "cell_type": "markdown",
   "id": "criminal-glory",
   "metadata": {},
   "source": [
    "## Acquire\n",
    "\n",
    "* Data acquired from Codeup MySQL DB\n",
    "* Data initially acquired on 25 Apr 2023\n",
    "* It contained 7,043 rows and 21 columns before cleaning\n",
    "* Each row represents a unique customer of Telco\n",
    "* Each column represents an element of the customer account"
   ]
  },
  {
   "attachments": {},
   "cell_type": "markdown",
   "id": "impossible-bible",
   "metadata": {},
   "source": [
    "## Prepare\n",
    "\n",
    "**Prepare Actions**:\n",
    "\n",
    "* Removed columns that did not contain useful information\n",
    "* Renamed columns to promote readability\n",
    "* Checked for nulls in the data\n",
    "    - total_charges nulls matched tenure of 0, therefore changed nulls to 0\n",
    "* Checked that column data types were appropriate\n",
    "* Encoded categorical variables\n",
    "    - mapped 'Yes'/'No' to 1/0\n",
    "    - mapped gender 'Female'/'Male ot 1/0\n",
    "    - created dummy variables for other categorical variables\n",
    "* Split data into train, validate and test (approx. 60/20/20), stratifying on 'churn'\n",
    "* Outliers have not been removed for this iteration of the project"
   ]
  },
  {
   "cell_type": "code",
   "execution_count": 2,
   "id": "flexible-irrigation",
   "metadata": {},
   "outputs": [],
   "source": [
    "# acquire, clean, and prepare the data\n",
    "df = w.wrangle_telco_data()\n",
    "\n",
    "# split into train, validate, and test datasets\n",
    "train, validate, test = w.split_data(df, 'churn')"
   ]
  },
  {
   "attachments": {},
   "cell_type": "markdown",
   "id": "49e05ba4",
   "metadata": {},
   "source": [
    "#### A brief look at the data"
   ]
  },
  {
   "cell_type": "code",
   "execution_count": 3,
   "id": "cfb9a1da",
   "metadata": {},
   "outputs": [
    {
     "data": {
      "text/html": [
       "<div>\n",
       "<style scoped>\n",
       "    .dataframe tbody tr th:only-of-type {\n",
       "        vertical-align: middle;\n",
       "    }\n",
       "\n",
       "    .dataframe tbody tr th {\n",
       "        vertical-align: top;\n",
       "    }\n",
       "\n",
       "    .dataframe thead th {\n",
       "        text-align: right;\n",
       "    }\n",
       "</style>\n",
       "<table border=\"1\" class=\"dataframe\">\n",
       "  <thead>\n",
       "    <tr style=\"text-align: right;\">\n",
       "      <th></th>\n",
       "      <th>customer_id</th>\n",
       "      <th>gender</th>\n",
       "      <th>senior_citizen</th>\n",
       "      <th>partner</th>\n",
       "      <th>dependents</th>\n",
       "      <th>phone_service</th>\n",
       "      <th>multiple_lines</th>\n",
       "      <th>internet_service_type</th>\n",
       "      <th>online_security</th>\n",
       "      <th>online_backup</th>\n",
       "      <th>...</th>\n",
       "      <th>streaming_tv_Yes</th>\n",
       "      <th>streaming_movies_No internet service</th>\n",
       "      <th>streaming_movies_Yes</th>\n",
       "      <th>contract_type_One year</th>\n",
       "      <th>contract_type_Two year</th>\n",
       "      <th>internet_service_type_Fiber optic</th>\n",
       "      <th>internet_service_type_None</th>\n",
       "      <th>payment_type_Credit card (automatic)</th>\n",
       "      <th>payment_type_Electronic check</th>\n",
       "      <th>payment_type_Mailed check</th>\n",
       "    </tr>\n",
       "  </thead>\n",
       "  <tbody>\n",
       "    <tr>\n",
       "      <th>2332</th>\n",
       "      <td>3338-CVVEH</td>\n",
       "      <td>Male</td>\n",
       "      <td>0</td>\n",
       "      <td>0</td>\n",
       "      <td>0</td>\n",
       "      <td>1</td>\n",
       "      <td>Yes</td>\n",
       "      <td>Fiber optic</td>\n",
       "      <td>No</td>\n",
       "      <td>No</td>\n",
       "      <td>...</td>\n",
       "      <td>1</td>\n",
       "      <td>0</td>\n",
       "      <td>1</td>\n",
       "      <td>0</td>\n",
       "      <td>0</td>\n",
       "      <td>1</td>\n",
       "      <td>0</td>\n",
       "      <td>0</td>\n",
       "      <td>1</td>\n",
       "      <td>0</td>\n",
       "    </tr>\n",
       "    <tr>\n",
       "      <th>5275</th>\n",
       "      <td>7442-YGZFK</td>\n",
       "      <td>Male</td>\n",
       "      <td>0</td>\n",
       "      <td>0</td>\n",
       "      <td>0</td>\n",
       "      <td>1</td>\n",
       "      <td>Yes</td>\n",
       "      <td>DSL</td>\n",
       "      <td>No</td>\n",
       "      <td>No</td>\n",
       "      <td>...</td>\n",
       "      <td>0</td>\n",
       "      <td>0</td>\n",
       "      <td>0</td>\n",
       "      <td>0</td>\n",
       "      <td>0</td>\n",
       "      <td>0</td>\n",
       "      <td>0</td>\n",
       "      <td>1</td>\n",
       "      <td>0</td>\n",
       "      <td>0</td>\n",
       "    </tr>\n",
       "    <tr>\n",
       "      <th>6429</th>\n",
       "      <td>9102-OXKFY</td>\n",
       "      <td>Male</td>\n",
       "      <td>0</td>\n",
       "      <td>0</td>\n",
       "      <td>0</td>\n",
       "      <td>1</td>\n",
       "      <td>Yes</td>\n",
       "      <td>DSL</td>\n",
       "      <td>No</td>\n",
       "      <td>No</td>\n",
       "      <td>...</td>\n",
       "      <td>0</td>\n",
       "      <td>0</td>\n",
       "      <td>0</td>\n",
       "      <td>0</td>\n",
       "      <td>1</td>\n",
       "      <td>0</td>\n",
       "      <td>0</td>\n",
       "      <td>1</td>\n",
       "      <td>0</td>\n",
       "      <td>0</td>\n",
       "    </tr>\n",
       "    <tr>\n",
       "      <th>89</th>\n",
       "      <td>0141-YEAYS</td>\n",
       "      <td>Female</td>\n",
       "      <td>1</td>\n",
       "      <td>0</td>\n",
       "      <td>0</td>\n",
       "      <td>1</td>\n",
       "      <td>Yes</td>\n",
       "      <td>Fiber optic</td>\n",
       "      <td>No</td>\n",
       "      <td>Yes</td>\n",
       "      <td>...</td>\n",
       "      <td>0</td>\n",
       "      <td>0</td>\n",
       "      <td>0</td>\n",
       "      <td>0</td>\n",
       "      <td>0</td>\n",
       "      <td>1</td>\n",
       "      <td>0</td>\n",
       "      <td>0</td>\n",
       "      <td>0</td>\n",
       "      <td>0</td>\n",
       "    </tr>\n",
       "    <tr>\n",
       "      <th>6412</th>\n",
       "      <td>9079-YEXQJ</td>\n",
       "      <td>Female</td>\n",
       "      <td>0</td>\n",
       "      <td>0</td>\n",
       "      <td>0</td>\n",
       "      <td>1</td>\n",
       "      <td>Yes</td>\n",
       "      <td>Fiber optic</td>\n",
       "      <td>No</td>\n",
       "      <td>Yes</td>\n",
       "      <td>...</td>\n",
       "      <td>1</td>\n",
       "      <td>0</td>\n",
       "      <td>1</td>\n",
       "      <td>0</td>\n",
       "      <td>0</td>\n",
       "      <td>1</td>\n",
       "      <td>0</td>\n",
       "      <td>0</td>\n",
       "      <td>1</td>\n",
       "      <td>0</td>\n",
       "    </tr>\n",
       "  </tbody>\n",
       "</table>\n",
       "<p>5 rows × 43 columns</p>\n",
       "</div>"
      ],
      "text/plain": [
       "     customer_id  gender  senior_citizen  partner  dependents  phone_service  \\\n",
       "2332  3338-CVVEH    Male               0        0           0              1   \n",
       "5275  7442-YGZFK    Male               0        0           0              1   \n",
       "6429  9102-OXKFY    Male               0        0           0              1   \n",
       "89    0141-YEAYS  Female               1        0           0              1   \n",
       "6412  9079-YEXQJ  Female               0        0           0              1   \n",
       "\n",
       "     multiple_lines internet_service_type online_security online_backup  ...  \\\n",
       "2332            Yes           Fiber optic              No            No  ...   \n",
       "5275            Yes                   DSL              No            No  ...   \n",
       "6429            Yes                   DSL              No            No  ...   \n",
       "89              Yes           Fiber optic              No           Yes  ...   \n",
       "6412            Yes           Fiber optic              No           Yes  ...   \n",
       "\n",
       "     streaming_tv_Yes streaming_movies_No internet service  \\\n",
       "2332                1                                    0   \n",
       "5275                0                                    0   \n",
       "6429                0                                    0   \n",
       "89                  0                                    0   \n",
       "6412                1                                    0   \n",
       "\n",
       "     streaming_movies_Yes contract_type_One year contract_type_Two year  \\\n",
       "2332                    1                      0                      0   \n",
       "5275                    0                      0                      0   \n",
       "6429                    0                      0                      1   \n",
       "89                      0                      0                      0   \n",
       "6412                    1                      0                      0   \n",
       "\n",
       "     internet_service_type_Fiber optic  internet_service_type_None  \\\n",
       "2332                                 1                           0   \n",
       "5275                                 0                           0   \n",
       "6429                                 0                           0   \n",
       "89                                   1                           0   \n",
       "6412                                 1                           0   \n",
       "\n",
       "      payment_type_Credit card (automatic)  payment_type_Electronic check  \\\n",
       "2332                                     0                              1   \n",
       "5275                                     1                              0   \n",
       "6429                                     1                              0   \n",
       "89                                       0                              0   \n",
       "6412                                     0                              1   \n",
       "\n",
       "      payment_type_Mailed check  \n",
       "2332                          0  \n",
       "5275                          0  \n",
       "6429                          0  \n",
       "89                            0  \n",
       "6412                          0  \n",
       "\n",
       "[5 rows x 43 columns]"
      ]
     },
     "execution_count": 3,
     "metadata": {},
     "output_type": "execute_result"
    }
   ],
   "source": [
    "train.head()"
   ]
  },
  {
   "attachments": {},
   "cell_type": "markdown",
   "id": "42c3739a",
   "metadata": {},
   "source": [
    "#### A summary of the data"
   ]
  },
  {
   "cell_type": "code",
   "execution_count": 4,
   "id": "63c0e033",
   "metadata": {},
   "outputs": [
    {
     "data": {
      "text/html": [
       "<div>\n",
       "<style scoped>\n",
       "    .dataframe tbody tr th:only-of-type {\n",
       "        vertical-align: middle;\n",
       "    }\n",
       "\n",
       "    .dataframe tbody tr th {\n",
       "        vertical-align: top;\n",
       "    }\n",
       "\n",
       "    .dataframe thead th {\n",
       "        text-align: right;\n",
       "    }\n",
       "</style>\n",
       "<table border=\"1\" class=\"dataframe\">\n",
       "  <thead>\n",
       "    <tr style=\"text-align: right;\">\n",
       "      <th></th>\n",
       "      <th>count</th>\n",
       "      <th>mean</th>\n",
       "      <th>std</th>\n",
       "      <th>min</th>\n",
       "      <th>25%</th>\n",
       "      <th>50%</th>\n",
       "      <th>75%</th>\n",
       "      <th>max</th>\n",
       "    </tr>\n",
       "  </thead>\n",
       "  <tbody>\n",
       "    <tr>\n",
       "      <th>senior_citizen</th>\n",
       "      <td>4225.0</td>\n",
       "      <td>0.159053</td>\n",
       "      <td>0.365769</td>\n",
       "      <td>0.0</td>\n",
       "      <td>0.00</td>\n",
       "      <td>0.00</td>\n",
       "      <td>0.00</td>\n",
       "      <td>1.00</td>\n",
       "    </tr>\n",
       "    <tr>\n",
       "      <th>partner</th>\n",
       "      <td>4225.0</td>\n",
       "      <td>0.479527</td>\n",
       "      <td>0.499640</td>\n",
       "      <td>0.0</td>\n",
       "      <td>0.00</td>\n",
       "      <td>0.00</td>\n",
       "      <td>1.00</td>\n",
       "      <td>1.00</td>\n",
       "    </tr>\n",
       "    <tr>\n",
       "      <th>dependents</th>\n",
       "      <td>4225.0</td>\n",
       "      <td>0.305562</td>\n",
       "      <td>0.460700</td>\n",
       "      <td>0.0</td>\n",
       "      <td>0.00</td>\n",
       "      <td>0.00</td>\n",
       "      <td>1.00</td>\n",
       "      <td>1.00</td>\n",
       "    </tr>\n",
       "    <tr>\n",
       "      <th>phone_service</th>\n",
       "      <td>4225.0</td>\n",
       "      <td>0.907219</td>\n",
       "      <td>0.290160</td>\n",
       "      <td>0.0</td>\n",
       "      <td>1.00</td>\n",
       "      <td>1.00</td>\n",
       "      <td>1.00</td>\n",
       "      <td>1.00</td>\n",
       "    </tr>\n",
       "    <tr>\n",
       "      <th>paperless_billing</th>\n",
       "      <td>4225.0</td>\n",
       "      <td>0.604260</td>\n",
       "      <td>0.489067</td>\n",
       "      <td>0.0</td>\n",
       "      <td>0.00</td>\n",
       "      <td>1.00</td>\n",
       "      <td>1.00</td>\n",
       "      <td>1.00</td>\n",
       "    </tr>\n",
       "    <tr>\n",
       "      <th>monthly_charges</th>\n",
       "      <td>4225.0</td>\n",
       "      <td>65.273243</td>\n",
       "      <td>30.218179</td>\n",
       "      <td>18.4</td>\n",
       "      <td>36.45</td>\n",
       "      <td>70.75</td>\n",
       "      <td>90.35</td>\n",
       "      <td>118.75</td>\n",
       "    </tr>\n",
       "    <tr>\n",
       "      <th>total_charges</th>\n",
       "      <td>4225.0</td>\n",
       "      <td>2320.103183</td>\n",
       "      <td>2297.297588</td>\n",
       "      <td>0.0</td>\n",
       "      <td>392.65</td>\n",
       "      <td>1414.80</td>\n",
       "      <td>3902.45</td>\n",
       "      <td>8684.80</td>\n",
       "    </tr>\n",
       "    <tr>\n",
       "      <th>tenure</th>\n",
       "      <td>4225.0</td>\n",
       "      <td>32.562367</td>\n",
       "      <td>24.755164</td>\n",
       "      <td>0.0</td>\n",
       "      <td>9.00</td>\n",
       "      <td>29.00</td>\n",
       "      <td>56.00</td>\n",
       "      <td>72.00</td>\n",
       "    </tr>\n",
       "    <tr>\n",
       "      <th>churn</th>\n",
       "      <td>4225.0</td>\n",
       "      <td>0.265325</td>\n",
       "      <td>0.441559</td>\n",
       "      <td>0.0</td>\n",
       "      <td>0.00</td>\n",
       "      <td>0.00</td>\n",
       "      <td>1.00</td>\n",
       "      <td>1.00</td>\n",
       "    </tr>\n",
       "    <tr>\n",
       "      <th>female</th>\n",
       "      <td>4225.0</td>\n",
       "      <td>0.496095</td>\n",
       "      <td>0.500044</td>\n",
       "      <td>0.0</td>\n",
       "      <td>0.00</td>\n",
       "      <td>0.00</td>\n",
       "      <td>1.00</td>\n",
       "      <td>1.00</td>\n",
       "    </tr>\n",
       "    <tr>\n",
       "      <th>multiple_lines_No phone service</th>\n",
       "      <td>4225.0</td>\n",
       "      <td>0.092781</td>\n",
       "      <td>0.290160</td>\n",
       "      <td>0.0</td>\n",
       "      <td>0.00</td>\n",
       "      <td>0.00</td>\n",
       "      <td>0.00</td>\n",
       "      <td>1.00</td>\n",
       "    </tr>\n",
       "    <tr>\n",
       "      <th>multiple_lines_Yes</th>\n",
       "      <td>4225.0</td>\n",
       "      <td>0.422959</td>\n",
       "      <td>0.494087</td>\n",
       "      <td>0.0</td>\n",
       "      <td>0.00</td>\n",
       "      <td>0.00</td>\n",
       "      <td>1.00</td>\n",
       "      <td>1.00</td>\n",
       "    </tr>\n",
       "    <tr>\n",
       "      <th>online_security_No internet service</th>\n",
       "      <td>4225.0</td>\n",
       "      <td>0.214438</td>\n",
       "      <td>0.410480</td>\n",
       "      <td>0.0</td>\n",
       "      <td>0.00</td>\n",
       "      <td>0.00</td>\n",
       "      <td>0.00</td>\n",
       "      <td>1.00</td>\n",
       "    </tr>\n",
       "    <tr>\n",
       "      <th>online_security_Yes</th>\n",
       "      <td>4225.0</td>\n",
       "      <td>0.287101</td>\n",
       "      <td>0.452462</td>\n",
       "      <td>0.0</td>\n",
       "      <td>0.00</td>\n",
       "      <td>0.00</td>\n",
       "      <td>1.00</td>\n",
       "      <td>1.00</td>\n",
       "    </tr>\n",
       "    <tr>\n",
       "      <th>online_backup_No internet service</th>\n",
       "      <td>4225.0</td>\n",
       "      <td>0.214438</td>\n",
       "      <td>0.410480</td>\n",
       "      <td>0.0</td>\n",
       "      <td>0.00</td>\n",
       "      <td>0.00</td>\n",
       "      <td>0.00</td>\n",
       "      <td>1.00</td>\n",
       "    </tr>\n",
       "    <tr>\n",
       "      <th>online_backup_Yes</th>\n",
       "      <td>4225.0</td>\n",
       "      <td>0.346982</td>\n",
       "      <td>0.476066</td>\n",
       "      <td>0.0</td>\n",
       "      <td>0.00</td>\n",
       "      <td>0.00</td>\n",
       "      <td>1.00</td>\n",
       "      <td>1.00</td>\n",
       "    </tr>\n",
       "    <tr>\n",
       "      <th>device_protection_No internet service</th>\n",
       "      <td>4225.0</td>\n",
       "      <td>0.214438</td>\n",
       "      <td>0.410480</td>\n",
       "      <td>0.0</td>\n",
       "      <td>0.00</td>\n",
       "      <td>0.00</td>\n",
       "      <td>0.00</td>\n",
       "      <td>1.00</td>\n",
       "    </tr>\n",
       "    <tr>\n",
       "      <th>device_protection_Yes</th>\n",
       "      <td>4225.0</td>\n",
       "      <td>0.345325</td>\n",
       "      <td>0.475531</td>\n",
       "      <td>0.0</td>\n",
       "      <td>0.00</td>\n",
       "      <td>0.00</td>\n",
       "      <td>1.00</td>\n",
       "      <td>1.00</td>\n",
       "    </tr>\n",
       "    <tr>\n",
       "      <th>tech_support_No internet service</th>\n",
       "      <td>4225.0</td>\n",
       "      <td>0.214438</td>\n",
       "      <td>0.410480</td>\n",
       "      <td>0.0</td>\n",
       "      <td>0.00</td>\n",
       "      <td>0.00</td>\n",
       "      <td>0.00</td>\n",
       "      <td>1.00</td>\n",
       "    </tr>\n",
       "    <tr>\n",
       "      <th>tech_support_Yes</th>\n",
       "      <td>4225.0</td>\n",
       "      <td>0.295148</td>\n",
       "      <td>0.456163</td>\n",
       "      <td>0.0</td>\n",
       "      <td>0.00</td>\n",
       "      <td>0.00</td>\n",
       "      <td>1.00</td>\n",
       "      <td>1.00</td>\n",
       "    </tr>\n",
       "    <tr>\n",
       "      <th>streaming_tv_No internet service</th>\n",
       "      <td>4225.0</td>\n",
       "      <td>0.214438</td>\n",
       "      <td>0.410480</td>\n",
       "      <td>0.0</td>\n",
       "      <td>0.00</td>\n",
       "      <td>0.00</td>\n",
       "      <td>0.00</td>\n",
       "      <td>1.00</td>\n",
       "    </tr>\n",
       "    <tr>\n",
       "      <th>streaming_tv_Yes</th>\n",
       "      <td>4225.0</td>\n",
       "      <td>0.396450</td>\n",
       "      <td>0.489218</td>\n",
       "      <td>0.0</td>\n",
       "      <td>0.00</td>\n",
       "      <td>0.00</td>\n",
       "      <td>1.00</td>\n",
       "      <td>1.00</td>\n",
       "    </tr>\n",
       "    <tr>\n",
       "      <th>streaming_movies_No internet service</th>\n",
       "      <td>4225.0</td>\n",
       "      <td>0.214438</td>\n",
       "      <td>0.410480</td>\n",
       "      <td>0.0</td>\n",
       "      <td>0.00</td>\n",
       "      <td>0.00</td>\n",
       "      <td>0.00</td>\n",
       "      <td>1.00</td>\n",
       "    </tr>\n",
       "    <tr>\n",
       "      <th>streaming_movies_Yes</th>\n",
       "      <td>4225.0</td>\n",
       "      <td>0.394793</td>\n",
       "      <td>0.488864</td>\n",
       "      <td>0.0</td>\n",
       "      <td>0.00</td>\n",
       "      <td>0.00</td>\n",
       "      <td>1.00</td>\n",
       "      <td>1.00</td>\n",
       "    </tr>\n",
       "    <tr>\n",
       "      <th>contract_type_One year</th>\n",
       "      <td>4225.0</td>\n",
       "      <td>0.205444</td>\n",
       "      <td>0.404073</td>\n",
       "      <td>0.0</td>\n",
       "      <td>0.00</td>\n",
       "      <td>0.00</td>\n",
       "      <td>0.00</td>\n",
       "      <td>1.00</td>\n",
       "    </tr>\n",
       "    <tr>\n",
       "      <th>contract_type_Two year</th>\n",
       "      <td>4225.0</td>\n",
       "      <td>0.245917</td>\n",
       "      <td>0.430681</td>\n",
       "      <td>0.0</td>\n",
       "      <td>0.00</td>\n",
       "      <td>0.00</td>\n",
       "      <td>0.00</td>\n",
       "      <td>1.00</td>\n",
       "    </tr>\n",
       "    <tr>\n",
       "      <th>internet_service_type_Fiber optic</th>\n",
       "      <td>4225.0</td>\n",
       "      <td>0.445444</td>\n",
       "      <td>0.497074</td>\n",
       "      <td>0.0</td>\n",
       "      <td>0.00</td>\n",
       "      <td>0.00</td>\n",
       "      <td>1.00</td>\n",
       "      <td>1.00</td>\n",
       "    </tr>\n",
       "    <tr>\n",
       "      <th>internet_service_type_None</th>\n",
       "      <td>4225.0</td>\n",
       "      <td>0.214438</td>\n",
       "      <td>0.410480</td>\n",
       "      <td>0.0</td>\n",
       "      <td>0.00</td>\n",
       "      <td>0.00</td>\n",
       "      <td>0.00</td>\n",
       "      <td>1.00</td>\n",
       "    </tr>\n",
       "    <tr>\n",
       "      <th>payment_type_Credit card (automatic)</th>\n",
       "      <td>4225.0</td>\n",
       "      <td>0.218935</td>\n",
       "      <td>0.413573</td>\n",
       "      <td>0.0</td>\n",
       "      <td>0.00</td>\n",
       "      <td>0.00</td>\n",
       "      <td>0.00</td>\n",
       "      <td>1.00</td>\n",
       "    </tr>\n",
       "    <tr>\n",
       "      <th>payment_type_Electronic check</th>\n",
       "      <td>4225.0</td>\n",
       "      <td>0.332544</td>\n",
       "      <td>0.471181</td>\n",
       "      <td>0.0</td>\n",
       "      <td>0.00</td>\n",
       "      <td>0.00</td>\n",
       "      <td>1.00</td>\n",
       "      <td>1.00</td>\n",
       "    </tr>\n",
       "    <tr>\n",
       "      <th>payment_type_Mailed check</th>\n",
       "      <td>4225.0</td>\n",
       "      <td>0.225089</td>\n",
       "      <td>0.417690</td>\n",
       "      <td>0.0</td>\n",
       "      <td>0.00</td>\n",
       "      <td>0.00</td>\n",
       "      <td>0.00</td>\n",
       "      <td>1.00</td>\n",
       "    </tr>\n",
       "  </tbody>\n",
       "</table>\n",
       "</div>"
      ],
      "text/plain": [
       "                                        count         mean          std   min  \\\n",
       "senior_citizen                         4225.0     0.159053     0.365769   0.0   \n",
       "partner                                4225.0     0.479527     0.499640   0.0   \n",
       "dependents                             4225.0     0.305562     0.460700   0.0   \n",
       "phone_service                          4225.0     0.907219     0.290160   0.0   \n",
       "paperless_billing                      4225.0     0.604260     0.489067   0.0   \n",
       "monthly_charges                        4225.0    65.273243    30.218179  18.4   \n",
       "total_charges                          4225.0  2320.103183  2297.297588   0.0   \n",
       "tenure                                 4225.0    32.562367    24.755164   0.0   \n",
       "churn                                  4225.0     0.265325     0.441559   0.0   \n",
       "female                                 4225.0     0.496095     0.500044   0.0   \n",
       "multiple_lines_No phone service        4225.0     0.092781     0.290160   0.0   \n",
       "multiple_lines_Yes                     4225.0     0.422959     0.494087   0.0   \n",
       "online_security_No internet service    4225.0     0.214438     0.410480   0.0   \n",
       "online_security_Yes                    4225.0     0.287101     0.452462   0.0   \n",
       "online_backup_No internet service      4225.0     0.214438     0.410480   0.0   \n",
       "online_backup_Yes                      4225.0     0.346982     0.476066   0.0   \n",
       "device_protection_No internet service  4225.0     0.214438     0.410480   0.0   \n",
       "device_protection_Yes                  4225.0     0.345325     0.475531   0.0   \n",
       "tech_support_No internet service       4225.0     0.214438     0.410480   0.0   \n",
       "tech_support_Yes                       4225.0     0.295148     0.456163   0.0   \n",
       "streaming_tv_No internet service       4225.0     0.214438     0.410480   0.0   \n",
       "streaming_tv_Yes                       4225.0     0.396450     0.489218   0.0   \n",
       "streaming_movies_No internet service   4225.0     0.214438     0.410480   0.0   \n",
       "streaming_movies_Yes                   4225.0     0.394793     0.488864   0.0   \n",
       "contract_type_One year                 4225.0     0.205444     0.404073   0.0   \n",
       "contract_type_Two year                 4225.0     0.245917     0.430681   0.0   \n",
       "internet_service_type_Fiber optic      4225.0     0.445444     0.497074   0.0   \n",
       "internet_service_type_None             4225.0     0.214438     0.410480   0.0   \n",
       "payment_type_Credit card (automatic)   4225.0     0.218935     0.413573   0.0   \n",
       "payment_type_Electronic check          4225.0     0.332544     0.471181   0.0   \n",
       "payment_type_Mailed check              4225.0     0.225089     0.417690   0.0   \n",
       "\n",
       "                                          25%      50%      75%      max  \n",
       "senior_citizen                           0.00     0.00     0.00     1.00  \n",
       "partner                                  0.00     0.00     1.00     1.00  \n",
       "dependents                               0.00     0.00     1.00     1.00  \n",
       "phone_service                            1.00     1.00     1.00     1.00  \n",
       "paperless_billing                        0.00     1.00     1.00     1.00  \n",
       "monthly_charges                         36.45    70.75    90.35   118.75  \n",
       "total_charges                          392.65  1414.80  3902.45  8684.80  \n",
       "tenure                                   9.00    29.00    56.00    72.00  \n",
       "churn                                    0.00     0.00     1.00     1.00  \n",
       "female                                   0.00     0.00     1.00     1.00  \n",
       "multiple_lines_No phone service          0.00     0.00     0.00     1.00  \n",
       "multiple_lines_Yes                       0.00     0.00     1.00     1.00  \n",
       "online_security_No internet service      0.00     0.00     0.00     1.00  \n",
       "online_security_Yes                      0.00     0.00     1.00     1.00  \n",
       "online_backup_No internet service        0.00     0.00     0.00     1.00  \n",
       "online_backup_Yes                        0.00     0.00     1.00     1.00  \n",
       "device_protection_No internet service    0.00     0.00     0.00     1.00  \n",
       "device_protection_Yes                    0.00     0.00     1.00     1.00  \n",
       "tech_support_No internet service         0.00     0.00     0.00     1.00  \n",
       "tech_support_Yes                         0.00     0.00     1.00     1.00  \n",
       "streaming_tv_No internet service         0.00     0.00     0.00     1.00  \n",
       "streaming_tv_Yes                         0.00     0.00     1.00     1.00  \n",
       "streaming_movies_No internet service     0.00     0.00     0.00     1.00  \n",
       "streaming_movies_Yes                     0.00     0.00     1.00     1.00  \n",
       "contract_type_One year                   0.00     0.00     0.00     1.00  \n",
       "contract_type_Two year                   0.00     0.00     0.00     1.00  \n",
       "internet_service_type_Fiber optic        0.00     0.00     1.00     1.00  \n",
       "internet_service_type_None               0.00     0.00     0.00     1.00  \n",
       "payment_type_Credit card (automatic)     0.00     0.00     0.00     1.00  \n",
       "payment_type_Electronic check            0.00     0.00     1.00     1.00  \n",
       "payment_type_Mailed check                0.00     0.00     0.00     1.00  "
      ]
     },
     "execution_count": 4,
     "metadata": {},
     "output_type": "execute_result"
    }
   ],
   "source": [
    "train.describe().T"
   ]
  },
  {
   "attachments": {},
   "cell_type": "markdown",
   "id": "immediate-mirror",
   "metadata": {},
   "source": [
    "## Explore\n",
    "\n",
    "* Is Churn independent from payment type?\n",
    "* Is Churn independent from internet Service type?\n",
    "* Is Churn independent from tech support?\n",
    "* Is Churn independent from a customer having at least one internet package?"
   ]
  },
  {
   "cell_type": "markdown",
   "id": "5e3253e5",
   "metadata": {},
   "source": [
    "### 1) Is Churn independent from payment type?\n",
    "* $H_0$: Churn is independent from payment type\n",
    "* $H_a$: Churn is **NOT** independent from payment type\n",
    "* Discrete (churn) vs Discrete (payment_type) = $Chi^2$\n",
    "    - $Chi^2$ = 411.59356 \n",
    "    - $p$ = 6.820556e-89\n",
    "* `Churn` is **NOT** independent from `payment type`"
   ]
  },
  {
   "cell_type": "code",
   "execution_count": 5,
   "id": "3be56a33",
   "metadata": {},
   "outputs": [
    {
     "name": "stdout",
     "output_type": "stream",
     "text": [
      "Chi2: 411.5935596871652, p-value: 6.820556365758793e-89\n"
     ]
    },
    {
     "data": {
      "image/png": "[encoded data removed]",
      "text/plain": [
       "<Figure size 400x400 with 1 Axes>"
      ]
     },
     "metadata": {},
     "output_type": "display_data"
    }
   ],
   "source": [
    "# explore churn and payment type\n",
    "e.explore_cat(train,'churn','payment_type')"
   ]
  },
  {
   "cell_type": "markdown",
   "id": "425de098",
   "metadata": {},
   "source": [
    "**With an alpha of 0.05 (confidence 95%) the p-value is less than alpha. Therefore, evidence suggests that payment type and churn are not independent from each other. I believe that using `payment_type` in the modeling will have a positive impact on the accuracy.**"
   ]
  },
  {
   "cell_type": "markdown",
   "id": "d20ea396",
   "metadata": {},
   "source": [
    "### 2) Is Churn independent from internet Service type?\n",
    "* $H_0$: Churn is independent from internet service type\n",
    "* $H_a$: Churn is **NOT** independent from internet service type\n",
    "* Discrete (churn) vs Discrete (internet_service_type) = $Chi^2$\n",
    "    - $Chi^2$ = 402.162525\n",
    "    - $p$ = 4.693721e-88\n",
    "* `Churn` is **NOT** independent from `internet service type`"
   ]
  },
  {
   "cell_type": "code",
   "execution_count": 6,
   "id": "3c8a7336",
   "metadata": {},
   "outputs": [
    {
     "name": "stdout",
     "output_type": "stream",
     "text": [
      "Chi2: 402.162525170296, p-value: 4.693720719529299e-88\n"
     ]
    },
    {
     "data": {
      "image/png": "[encoded data removed]",
      "text/plain": [
       "<Figure size 400x400 with 1 Axes>"
      ]
     },
     "metadata": {},
     "output_type": "display_data"
    }
   ],
   "source": [
    "# explore churn and internet service type\n",
    "e.explore_cat(train,'churn','internet_service_type')"
   ]
  },
  {
   "cell_type": "markdown",
   "id": "048ed184",
   "metadata": {},
   "source": [
    "**With an alpha of 0.05 (confidence 95%) the p-value is less than alpha. Therefore, evidence suggests that internet service type and churn are not independent from each other. I believe that using `internet_service_type` in the modeling will have a positive impact on the accuracy.**"
   ]
  },
  {
   "cell_type": "markdown",
   "id": "617eb9f9",
   "metadata": {},
   "source": [
    "### 3) Is Churn independent from paperless billing?\n",
    "* $H_0$: Churn is independent from paperless billing\n",
    "* $H_a$: Churn is **NOT** independent from paperless billing\n",
    "* Discrete (churn) vs Discrete (paperless billing) = $Chi^2$\n",
    "    - $Chi^2$ = 174.0170668905212\n",
    "    - $p$ = 9.814255558186946e-40\n",
    "* `Churn` is **NOT** independent from `paperless billing`"
   ]
  },
  {
   "cell_type": "code",
   "execution_count": 7,
   "id": "68e93af6",
   "metadata": {},
   "outputs": [
    {
     "name": "stdout",
     "output_type": "stream",
     "text": [
      "Chi2: 174.0170668905212, p-value: 9.814255558186946e-40\n"
     ]
    },
    {
     "data": {
      "image/png": "[encoded data removed]",
      "text/plain": [
       "<Figure size 400x400 with 1 Axes>"
      ]
     },
     "metadata": {},
     "output_type": "display_data"
    }
   ],
   "source": [
    "# explore churn and paperless billing\n",
    "e.explore_int(train,'churn','paperless_billing')"
   ]
  },
  {
   "cell_type": "markdown",
   "id": "6c2cda2f",
   "metadata": {},
   "source": [
    "**With an alpha of 0.05 (confidence 95%) the p-value is less than alpha. Therefore, evidence suggests that paperless billing and churn are not independent from each other. I believe that using `paperless_billing` in the modeling will have a positive impact on the accuracy.**"
   ]
  },
  {
   "cell_type": "markdown",
   "id": "c97800d0",
   "metadata": {},
   "source": [
    "### 4) Is there a difference in Churn based on ?\n",
    "* $H_0$: There is **NO** difference in Churn based on monthly charges\n",
    "* $H_a$: There is a difference in Churn based on monthly charges\n",
    "* Discrete (churn) vs Continuous (monthly_charges) = $Mann$-$Whitney$ $U$\n",
    "    - $Mann$-$Whitney$ $U$ statistic = 1351248.0\n",
    "    - $p$ = 1.261599899747347e-28\n",
    "* There is a difference in `Churn` based on `monthly charges`"
   ]
  },
  {
   "cell_type": "code",
   "execution_count": 8,
   "id": "a767abf5",
   "metadata": {},
   "outputs": [
    {
     "name": "stdout",
     "output_type": "stream",
     "text": [
      "monthly_charges \n",
      "____________________\n",
      "Mann-Whitney Test:\n",
      " stat = 2128336.0, p = 1.261599899747347e-28\n",
      "____________________\n"
     ]
    },
    {
     "data": {
      "image/png": "[encoded data removed]",
      "text/plain": [
       "<Figure size 400x400 with 1 Axes>"
      ]
     },
     "metadata": {},
     "output_type": "display_data"
    }
   ],
   "source": [
    "# explore churn and monthly charges\n",
    "e.explore_bivariate_quant(train,'churn','monthly_charges')"
   ]
  },
  {
   "attachments": {},
   "cell_type": "markdown",
   "id": "2d8b78c9",
   "metadata": {},
   "source": [
    "#### 4.1) Is monthly charges higher on average for customers churned compared to those who have not churned?\n",
    "* $H_0$: Churned has **lower or equal** monthly charges\n",
    "* $H_a$: Churned has **higher** monthly charges\n",
    "* Discrete (churn) vs Continuous (monthly_charges) = $Mann$-$Whitney$ $U$\n",
    "    - $Mann$-$Whitney$ $U$ statistic = 1351248.0\n",
    "    - $p$ = 1.261599899747347e-28\n",
    "* The `monthly charges` on average is **higher** for `Churn`"
   ]
  },
  {
   "cell_type": "code",
   "execution_count": 9,
   "id": "46ffe6dc",
   "metadata": {},
   "outputs": [
    {
     "name": "stdout",
     "output_type": "stream",
     "text": [
      "Mann-Whitney Test:\n",
      " stat = 2128336.0, p = 6.307999498736735e-29\n"
     ]
    }
   ],
   "source": [
    "# compare means for greater than of monthly charges for churn\n",
    "e.compare_means(train,'churn','monthly_charges','greater')"
   ]
  },
  {
   "attachments": {},
   "cell_type": "markdown",
   "id": "bc6a45cb",
   "metadata": {},
   "source": [
    "**With an alpha of 0.05 (confidence 95%) the p-value is less than alpha. Therefore, evidence suggests that there is a difference in monthly charges between churned and active customers. In fact, monthly charges is greater on average for customers who have churned compared to monthly charges of customers who haven't. I believe that using `monthly_charges` in the modeling will have a positive impact on the accuracy.**"
   ]
  },
  {
   "attachments": {},
   "cell_type": "markdown",
   "id": "5c84419d",
   "metadata": {},
   "source": [
    "### Are there any features that are independent from Churn?\n",
    "* $H_0$: Churn is independent from gender\n",
    "* $H_a$: Churn is **NOT** independent from gender\n",
    "* Discrete (churn) vs Discrete (gender) = $Chi^2$\n",
    "    - $Chi^2$ = 1.4668271981736136 \n",
    "    - $p$ = 0.22584695828761636\n",
    "* $H_0$: Churn is independent from phone service\n",
    "* $H_a$: Churn is **NOT** independent from phone service\n",
    "* Discrete (churn) vs Discrete (phone_service) = $Chi^2$\n",
    "    - $Chi^2$ = 0.0 \n",
    "    - $p$ = 1.0\n",
    "* `Churn` **is** independent from both `gender` and `phone_service`"
   ]
  },
  {
   "cell_type": "code",
   "execution_count": 10,
   "id": "e945cfeb",
   "metadata": {},
   "outputs": [
    {
     "name": "stdout",
     "output_type": "stream",
     "text": [
      "Chi2: 1.4668271981736136, p-value: 0.22584695828761636\n"
     ]
    },
    {
     "data": {
      "image/png": "[encoded data removed]",
      "text/plain": [
       "<Figure size 400x400 with 1 Axes>"
      ]
     },
     "metadata": {},
     "output_type": "display_data"
    }
   ],
   "source": [
    "# explore churn and gender\n",
    "e.explore_cat(train,'churn','gender')"
   ]
  },
  {
   "cell_type": "code",
   "execution_count": 11,
   "id": "01d1af5d",
   "metadata": {},
   "outputs": [
    {
     "name": "stdout",
     "output_type": "stream",
     "text": [
      "Chi2: 0.0, p-value: 1.0\n"
     ]
    },
    {
     "data": {
      "image/png": "[encoded data removed]",
      "text/plain": [
       "<Figure size 400x400 with 1 Axes>"
      ]
     },
     "metadata": {},
     "output_type": "display_data"
    }
   ],
   "source": [
    "# explore churn and phone service\n",
    "e.explore_int(train,'churn','phone_service')"
   ]
  },
  {
   "attachments": {},
   "cell_type": "markdown",
   "id": "2b35e5fc",
   "metadata": {},
   "source": [
    "**With an alpha of 0.05 (confidence 95%) the p-values are greater than alpha. Therefore, evidence suggests that gender and phone service vs churn are independent from each other. I believe that using `gender` and `phone_service` in the modeling will not have much of an impact on the accuracy.**"
   ]
  },
  {
   "cell_type": "markdown",
   "id": "c04d05e4",
   "metadata": {},
   "source": [
    "## Exploration Summary\n",
    "* Payment type was found to be a driver of churn\n",
    "    - Electronic check payment being the most common among churn\n",
    "* Internet service type was found to be a driver of churn\n",
    "    - Fiber optic internet being the most common among churn\n",
    "* Paperless billing was found to be a driver of churn\n",
    "    - Having paperless billing being the most common among churn\n",
    "* Monthly charges was found to be a driver of churn\n",
    "    - Higher average monthly charges amongst churn\n",
    "* Gender and phone service were found to not be a driver of churn\n"
   ]
  },
  {
   "attachments": {},
   "cell_type": "markdown",
   "id": "77e7fde6",
   "metadata": {},
   "source": [
    "### Features for modeling\n",
    "* Features that will be used:\n",
    "    - churn (target)\n",
    "* Some features that may be useful:\n",
    "    - payment type\n",
    "    - internet service type\n",
    "    - paperless billing\n",
    "    - monthly charges\n",
    "* Some features that may not be useful:\n",
    "    - gender\n",
    "    - phone service"
   ]
  },
  {
   "cell_type": "markdown",
   "id": "minus-tulsa",
   "metadata": {},
   "source": [
    "## Modeling"
   ]
  },
  {
   "attachments": {},
   "cell_type": "markdown",
   "id": "hydraulic-spectrum",
   "metadata": {},
   "source": [
    "* Accuracy will be the evaluation metric\n",
    "    - Given more time I can evaluate with other metrics\n",
    "* Target feature is Churn\n",
    "    - 27% Churn\n",
    "    - 73% Active\n",
    "* Guessing Active for every customer gives an accuracy of 73%\n",
    "    - 73% will be the baseline accuracy\n",
    "* Models will be developed and evaluated using 4 different model types, various features, and various hyperparameter configurations\n",
    "    - Decision Tree\n",
    "    - Random Forest\n",
    "    - KNN\n",
    "    - Logistic Regression\n",
    "* Models will be evaluated on train and validate datasets\n",
    "* Best performing model will be the only one evaluated on the test dataset"
   ]
  },
  {
   "cell_type": "code",
   "execution_count": 12,
   "id": "ranging-rebecca",
   "metadata": {},
   "outputs": [
    {
     "name": "stdout",
     "output_type": "stream",
     "text": [
      "Baseline: 73.47% Accuracy\n"
     ]
    }
   ],
   "source": [
    "# get baseline accuracy\n",
    "e.baseline(train.churn)"
   ]
  },
  {
   "attachments": {},
   "cell_type": "markdown",
   "id": "emotional-purchase",
   "metadata": {},
   "source": [
    "### Best of 4 Model Types"
   ]
  },
  {
   "attachments": {},
   "cell_type": "markdown",
   "id": "intensive-vietnamese",
   "metadata": {},
   "source": [
    "#### Decision Tree"
   ]
  },
  {
   "cell_type": "code",
   "execution_count": 13,
   "id": "e8efa85b",
   "metadata": {},
   "outputs": [
    {
     "name": "stdout",
     "output_type": "stream",
     "text": [
      "Decision Tree \n",
      "\n",
      "Accuracy on train: 80.64 \n",
      "\n",
      "Accuracy on validate: 78.14\n"
     ]
    }
   ],
   "source": [
    "# get decision tree results\n",
    "m.val_dt()"
   ]
  },
  {
   "attachments": {},
   "cell_type": "markdown",
   "id": "ff3df1eb",
   "metadata": {},
   "source": [
    "#### Random Forest"
   ]
  },
  {
   "cell_type": "code",
   "execution_count": 14,
   "id": "6faccc6a",
   "metadata": {},
   "outputs": [
    {
     "name": "stdout",
     "output_type": "stream",
     "text": [
      "Random Forest \n",
      "\n",
      "Accuracy on train: 82.98 \n",
      "\n",
      "Accuracy on validate: 78.92\n"
     ]
    }
   ],
   "source": [
    "# get random forest results\n",
    "m.val_rf()"
   ]
  },
  {
   "attachments": {},
   "cell_type": "markdown",
   "id": "1c45558e",
   "metadata": {},
   "source": [
    "#### KNN"
   ]
  },
  {
   "cell_type": "code",
   "execution_count": 15,
   "id": "c955323a",
   "metadata": {},
   "outputs": [
    {
     "name": "stdout",
     "output_type": "stream",
     "text": [
      "K Nearest Neighbors \n",
      "\n",
      "Accuracy on train: 80.54 \n",
      "\n",
      "Accuracy on validate: 77.29\n"
     ]
    }
   ],
   "source": [
    "# get knn results\n",
    "m.val_knn()"
   ]
  },
  {
   "attachments": {},
   "cell_type": "markdown",
   "id": "ba0713db",
   "metadata": {},
   "source": [
    "#### Logistic Regression"
   ]
  },
  {
   "cell_type": "code",
   "execution_count": 16,
   "id": "9ebb6b66",
   "metadata": {},
   "outputs": [
    {
     "name": "stdout",
     "output_type": "stream",
     "text": [
      "Logistic Regression \n",
      "\n",
      "Accuracy on train: 79.72 \n",
      "\n",
      "Accuracy on validate: 78.57\n"
     ]
    }
   ],
   "source": [
    "# get logistic regression results\n",
    "m.val_lr()"
   ]
  },
  {
   "attachments": {},
   "cell_type": "markdown",
   "id": "regulated-fellowship",
   "metadata": {},
   "source": [
    "### Logistic Regression on Test\n",
    "* Logistic Regression seemed to be the best fit with the least amount of difference between train and validate accuracy"
   ]
  },
  {
   "cell_type": "code",
   "execution_count": 17,
   "id": "optical-quilt",
   "metadata": {},
   "outputs": [
    {
     "name": "stdout",
     "output_type": "stream",
     "text": [
      "Logistic Regression \n",
      "\n",
      "Accuracy on test: 80.7 \n",
      "\n"
     ]
    }
   ],
   "source": [
    "# get test results for final model\n",
    "m.test_model()"
   ]
  },
  {
   "attachments": {},
   "cell_type": "markdown",
   "id": "bright-evans",
   "metadata": {},
   "source": [
    "### Modeling Wrap \n",
    "* Decision Tree, Random Forest, and KNN had between 2.5-4% difference for train and validate\n",
    "* Logistic Regression had about 1% difference for train and validate, best overall\n",
    "* With the test done on Logistic Regression, we get an 80.7% accuracy\n",
    "    - 80.7% is higher than our baseline of 73.47%"
   ]
  },
  {
   "attachments": {},
   "cell_type": "markdown",
   "id": "tutorial-twelve",
   "metadata": {},
   "source": [
    "## Conclusion\n",
    "\n",
    "### Takeaways and Key Findings\n",
    "* Payment type was found to be a driver of churn\n",
    "  - Electronic check being the most common among churn\n",
    "* Fiber optic internet being a driver of churn was surprising considering it has faster internet speeds\n",
    "* Paperless billing was found to be a driver of churn\n",
    "    - Having it enabled was the most common among churn\n",
    "* Monthly charges was found to be a driver of churn, higher charges for churn\n",
    "* Gender and phone service were found to not be a driver of churn\n",
    "\n",
    "### Recommendations\n",
    "* Check with the finance department to figure out if there are issues with electronic check\n",
    "* Check with internet department to see if there are frequent issues with Fiber optic internet\n",
    "* Check with tech support technicians and see what can be done for customers to choose tech support as an internet package\n",
    "\n",
    "### Next Steps\n",
    "* Given more time I could check what is causing the high monthly charges that lead to customers churning"
   ]
  },
  {
   "cell_type": "markdown",
   "id": "204f8162",
   "metadata": {},
   "source": []
  }
 ],
 "metadata": {
  "kernelspec": {
   "display_name": "Python 3",
   "language": "python",
   "name": "python3"
  },
  "language_info": {
   "codemirror_mode": {
    "name": "ipython",
    "version": 3
   },
   "file_extension": ".py",
   "mimetype": "text/x-python",
   "name": "python",
   "nbconvert_exporter": "python",
   "pygments_lexer": "ipython3",
   "version": "3.9.13"
  }
 },
 "nbformat": 4,
 "nbformat_minor": 5
}
