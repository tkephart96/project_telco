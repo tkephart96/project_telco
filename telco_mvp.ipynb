{
 "cells": [
  {
   "attachments": {},
   "cell_type": "markdown",
   "id": "premier-milan",
   "metadata": {},
   "source": [
    "# Project Telco\n",
    "\n",
    "* Learn to discern what turns the churn burn"
   ]
  },
  {
   "attachments": {},
   "cell_type": "markdown",
   "id": "2b2b68ae",
   "metadata": {},
   "source": [
    "## Goal\n",
    "\n",
    "* Discover drivers of churn of Telco customers\n",
    "* Use drivers to develop a machine learning model to classify churn as a customer ending their contract or not ending (renewing) their contract with Telco"
   ]
  },
  {
   "cell_type": "markdown",
   "id": "going-assembly",
   "metadata": {},
   "source": [
    "## Imports"
   ]
  },
  {
   "cell_type": "code",
   "execution_count": 1,
   "id": "divided-poster",
   "metadata": {},
   "outputs": [],
   "source": [
    "import numpy as np\n",
    "import pandas as pd\n",
    "import itertools\n",
    "\n",
    "import matplotlib.pyplot as plt\n",
    "import seaborn as sns\n",
    "\n",
    "from sklearn.tree import DecisionTreeClassifier, plot_tree, export_text\n",
    "from sklearn.ensemble import RandomForestClassifier\n",
    "from sklearn.neighbors import KNeighborsClassifier\n",
    "from sklearn.linear_model import LogisticRegression\n",
    "from sklearn.metrics import classification_report, confusion_matrix, ConfusionMatrixDisplay\n",
    "\n",
    "import warnings\n",
    "warnings.filterwarnings(\"ignore\")\n",
    "\n",
    "from scipy import stats\n",
    "\n",
    "import wrangle as w\n",
    "import explore as e\n",
    "# import modeling as m"
   ]
  },
  {
   "attachments": {},
   "cell_type": "markdown",
   "id": "criminal-glory",
   "metadata": {},
   "source": [
    "## Acquire\n",
    "\n",
    "* Data acquired from Codeup MySQL DB\n",
    "* Data initially acquired on 25 Apr 2023\n",
    "* It contained 7,043 rows and 21 columns before cleaning\n",
    "* Each row represents a unique customer of Telco\n",
    "* Each column represents an element of the customer account"
   ]
  },
  {
   "attachments": {},
   "cell_type": "markdown",
   "id": "impossible-bible",
   "metadata": {},
   "source": [
    "## Prepare\n",
    "\n",
    "**Prepare Actions**:\n",
    "\n",
    "* Removed columns that did not contain useful information\n",
    "* Renamed columns to promote readability\n",
    "* Checked for nulls in the data\n",
    "    - total_charges nulls matched tenure of 0, therefore changed nulls to 0\n",
    "* Checked that column data types were appropriate\n",
    "* Added additional features to investigate:\n",
    "    - Internet Packages\n",
    "* Encoded categorical variables\n",
    "    - turned 'Yes'/'No' to 1/0\n",
    "* Split data into train, validate and test (approx. 60/20/20), stratifying on 'churn'\n",
    "* Outliers have not been removed for this iteration of the project"
   ]
  },
  {
   "cell_type": "code",
   "execution_count": 2,
   "id": "flexible-irrigation",
   "metadata": {},
   "outputs": [
    {
     "name": "stdout",
     "output_type": "stream",
     "text": [
      "csv file found and loaded\n",
      "data cleaned and prepped\n",
      "data split\n",
      "train -> (4225, 43); 59.99%\n",
      "validate -> (1409, 43); 20.01%\n",
      "test -> (1409, 43); 20.01%\n"
     ]
    }
   ],
   "source": [
    "# acquire, clean, and prepare the data\n",
    "df = w.wrangle_telco_data()\n",
    "\n",
    "# split into train, validate, and test datasets\n",
    "train, validate, test = w.split_data(df, 'churn')"
   ]
  },
  {
   "attachments": {},
   "cell_type": "markdown",
   "id": "49e05ba4",
   "metadata": {},
   "source": [
    "#### A brief look at the data"
   ]
  },
  {
   "cell_type": "code",
   "execution_count": 3,
   "id": "cfb9a1da",
   "metadata": {},
   "outputs": [
    {
     "data": {
      "text/html": [
       "<div>\n",
       "<style scoped>\n",
       "    .dataframe tbody tr th:only-of-type {\n",
       "        vertical-align: middle;\n",
       "    }\n",
       "\n",
       "    .dataframe tbody tr th {\n",
       "        vertical-align: top;\n",
       "    }\n",
       "\n",
       "    .dataframe thead th {\n",
       "        text-align: right;\n",
       "    }\n",
       "</style>\n",
       "<table border=\"1\" class=\"dataframe\">\n",
       "  <thead>\n",
       "    <tr style=\"text-align: right;\">\n",
       "      <th></th>\n",
       "      <th>customer_id</th>\n",
       "      <th>gender</th>\n",
       "      <th>senior_citizen</th>\n",
       "      <th>partner</th>\n",
       "      <th>dependents</th>\n",
       "      <th>phone_service</th>\n",
       "      <th>multiple_lines</th>\n",
       "      <th>internet_service_type</th>\n",
       "      <th>online_security</th>\n",
       "      <th>online_backup</th>\n",
       "      <th>...</th>\n",
       "      <th>streaming_tv_Yes</th>\n",
       "      <th>streaming_movies_No internet service</th>\n",
       "      <th>streaming_movies_Yes</th>\n",
       "      <th>contract_type_One year</th>\n",
       "      <th>contract_type_Two year</th>\n",
       "      <th>internet_service_type_Fiber optic</th>\n",
       "      <th>internet_service_type_None</th>\n",
       "      <th>payment_type_Credit card (automatic)</th>\n",
       "      <th>payment_type_Electronic check</th>\n",
       "      <th>payment_type_Mailed check</th>\n",
       "    </tr>\n",
       "  </thead>\n",
       "  <tbody>\n",
       "    <tr>\n",
       "      <th>2332</th>\n",
       "      <td>3338-CVVEH</td>\n",
       "      <td>Male</td>\n",
       "      <td>0</td>\n",
       "      <td>0</td>\n",
       "      <td>0</td>\n",
       "      <td>1</td>\n",
       "      <td>Yes</td>\n",
       "      <td>Fiber optic</td>\n",
       "      <td>No</td>\n",
       "      <td>No</td>\n",
       "      <td>...</td>\n",
       "      <td>1</td>\n",
       "      <td>0</td>\n",
       "      <td>1</td>\n",
       "      <td>0</td>\n",
       "      <td>0</td>\n",
       "      <td>1</td>\n",
       "      <td>0</td>\n",
       "      <td>0</td>\n",
       "      <td>1</td>\n",
       "      <td>0</td>\n",
       "    </tr>\n",
       "    <tr>\n",
       "      <th>5275</th>\n",
       "      <td>7442-YGZFK</td>\n",
       "      <td>Male</td>\n",
       "      <td>0</td>\n",
       "      <td>0</td>\n",
       "      <td>0</td>\n",
       "      <td>1</td>\n",
       "      <td>Yes</td>\n",
       "      <td>DSL</td>\n",
       "      <td>No</td>\n",
       "      <td>No</td>\n",
       "      <td>...</td>\n",
       "      <td>0</td>\n",
       "      <td>0</td>\n",
       "      <td>0</td>\n",
       "      <td>0</td>\n",
       "      <td>0</td>\n",
       "      <td>0</td>\n",
       "      <td>0</td>\n",
       "      <td>1</td>\n",
       "      <td>0</td>\n",
       "      <td>0</td>\n",
       "    </tr>\n",
       "    <tr>\n",
       "      <th>6429</th>\n",
       "      <td>9102-OXKFY</td>\n",
       "      <td>Male</td>\n",
       "      <td>0</td>\n",
       "      <td>0</td>\n",
       "      <td>0</td>\n",
       "      <td>1</td>\n",
       "      <td>Yes</td>\n",
       "      <td>DSL</td>\n",
       "      <td>No</td>\n",
       "      <td>No</td>\n",
       "      <td>...</td>\n",
       "      <td>0</td>\n",
       "      <td>0</td>\n",
       "      <td>0</td>\n",
       "      <td>0</td>\n",
       "      <td>1</td>\n",
       "      <td>0</td>\n",
       "      <td>0</td>\n",
       "      <td>1</td>\n",
       "      <td>0</td>\n",
       "      <td>0</td>\n",
       "    </tr>\n",
       "    <tr>\n",
       "      <th>89</th>\n",
       "      <td>0141-YEAYS</td>\n",
       "      <td>Female</td>\n",
       "      <td>1</td>\n",
       "      <td>0</td>\n",
       "      <td>0</td>\n",
       "      <td>1</td>\n",
       "      <td>Yes</td>\n",
       "      <td>Fiber optic</td>\n",
       "      <td>No</td>\n",
       "      <td>Yes</td>\n",
       "      <td>...</td>\n",
       "      <td>0</td>\n",
       "      <td>0</td>\n",
       "      <td>0</td>\n",
       "      <td>0</td>\n",
       "      <td>0</td>\n",
       "      <td>1</td>\n",
       "      <td>0</td>\n",
       "      <td>0</td>\n",
       "      <td>0</td>\n",
       "      <td>0</td>\n",
       "    </tr>\n",
       "    <tr>\n",
       "      <th>6412</th>\n",
       "      <td>9079-YEXQJ</td>\n",
       "      <td>Female</td>\n",
       "      <td>0</td>\n",
       "      <td>0</td>\n",
       "      <td>0</td>\n",
       "      <td>1</td>\n",
       "      <td>Yes</td>\n",
       "      <td>Fiber optic</td>\n",
       "      <td>No</td>\n",
       "      <td>Yes</td>\n",
       "      <td>...</td>\n",
       "      <td>1</td>\n",
       "      <td>0</td>\n",
       "      <td>1</td>\n",
       "      <td>0</td>\n",
       "      <td>0</td>\n",
       "      <td>1</td>\n",
       "      <td>0</td>\n",
       "      <td>0</td>\n",
       "      <td>1</td>\n",
       "      <td>0</td>\n",
       "    </tr>\n",
       "  </tbody>\n",
       "</table>\n",
       "<p>5 rows × 43 columns</p>\n",
       "</div>"
      ],
      "text/plain": [
       "     customer_id  gender  senior_citizen  partner  dependents  phone_service  \\\n",
       "2332  3338-CVVEH    Male               0        0           0              1   \n",
       "5275  7442-YGZFK    Male               0        0           0              1   \n",
       "6429  9102-OXKFY    Male               0        0           0              1   \n",
       "89    0141-YEAYS  Female               1        0           0              1   \n",
       "6412  9079-YEXQJ  Female               0        0           0              1   \n",
       "\n",
       "     multiple_lines internet_service_type online_security online_backup  ...  \\\n",
       "2332            Yes           Fiber optic              No            No  ...   \n",
       "5275            Yes                   DSL              No            No  ...   \n",
       "6429            Yes                   DSL              No            No  ...   \n",
       "89              Yes           Fiber optic              No           Yes  ...   \n",
       "6412            Yes           Fiber optic              No           Yes  ...   \n",
       "\n",
       "     streaming_tv_Yes streaming_movies_No internet service  \\\n",
       "2332                1                                    0   \n",
       "5275                0                                    0   \n",
       "6429                0                                    0   \n",
       "89                  0                                    0   \n",
       "6412                1                                    0   \n",
       "\n",
       "     streaming_movies_Yes contract_type_One year contract_type_Two year  \\\n",
       "2332                    1                      0                      0   \n",
       "5275                    0                      0                      0   \n",
       "6429                    0                      0                      1   \n",
       "89                      0                      0                      0   \n",
       "6412                    1                      0                      0   \n",
       "\n",
       "     internet_service_type_Fiber optic  internet_service_type_None  \\\n",
       "2332                                 1                           0   \n",
       "5275                                 0                           0   \n",
       "6429                                 0                           0   \n",
       "89                                   1                           0   \n",
       "6412                                 1                           0   \n",
       "\n",
       "      payment_type_Credit card (automatic)  payment_type_Electronic check  \\\n",
       "2332                                     0                              1   \n",
       "5275                                     1                              0   \n",
       "6429                                     1                              0   \n",
       "89                                       0                              0   \n",
       "6412                                     0                              1   \n",
       "\n",
       "      payment_type_Mailed check  \n",
       "2332                          0  \n",
       "5275                          0  \n",
       "6429                          0  \n",
       "89                            0  \n",
       "6412                          0  \n",
       "\n",
       "[5 rows x 43 columns]"
      ]
     },
     "execution_count": 3,
     "metadata": {},
     "output_type": "execute_result"
    }
   ],
   "source": [
    "train.head()"
   ]
  },
  {
   "attachments": {},
   "cell_type": "markdown",
   "id": "42c3739a",
   "metadata": {},
   "source": [
    "#### A summary of the data"
   ]
  },
  {
   "cell_type": "code",
   "execution_count": 4,
   "id": "63c0e033",
   "metadata": {},
   "outputs": [
    {
     "data": {
      "text/html": [
       "<div>\n",
       "<style scoped>\n",
       "    .dataframe tbody tr th:only-of-type {\n",
       "        vertical-align: middle;\n",
       "    }\n",
       "\n",
       "    .dataframe tbody tr th {\n",
       "        vertical-align: top;\n",
       "    }\n",
       "\n",
       "    .dataframe thead th {\n",
       "        text-align: right;\n",
       "    }\n",
       "</style>\n",
       "<table border=\"1\" class=\"dataframe\">\n",
       "  <thead>\n",
       "    <tr style=\"text-align: right;\">\n",
       "      <th></th>\n",
       "      <th>count</th>\n",
       "      <th>mean</th>\n",
       "      <th>std</th>\n",
       "      <th>min</th>\n",
       "      <th>25%</th>\n",
       "      <th>50%</th>\n",
       "      <th>75%</th>\n",
       "      <th>max</th>\n",
       "    </tr>\n",
       "  </thead>\n",
       "  <tbody>\n",
       "    <tr>\n",
       "      <th>senior_citizen</th>\n",
       "      <td>4225.0</td>\n",
       "      <td>0.159053</td>\n",
       "      <td>0.365769</td>\n",
       "      <td>0.0</td>\n",
       "      <td>0.00</td>\n",
       "      <td>0.00</td>\n",
       "      <td>0.00</td>\n",
       "      <td>1.00</td>\n",
       "    </tr>\n",
       "    <tr>\n",
       "      <th>partner</th>\n",
       "      <td>4225.0</td>\n",
       "      <td>0.479527</td>\n",
       "      <td>0.499640</td>\n",
       "      <td>0.0</td>\n",
       "      <td>0.00</td>\n",
       "      <td>0.00</td>\n",
       "      <td>1.00</td>\n",
       "      <td>1.00</td>\n",
       "    </tr>\n",
       "    <tr>\n",
       "      <th>dependents</th>\n",
       "      <td>4225.0</td>\n",
       "      <td>0.305562</td>\n",
       "      <td>0.460700</td>\n",
       "      <td>0.0</td>\n",
       "      <td>0.00</td>\n",
       "      <td>0.00</td>\n",
       "      <td>1.00</td>\n",
       "      <td>1.00</td>\n",
       "    </tr>\n",
       "    <tr>\n",
       "      <th>phone_service</th>\n",
       "      <td>4225.0</td>\n",
       "      <td>0.907219</td>\n",
       "      <td>0.290160</td>\n",
       "      <td>0.0</td>\n",
       "      <td>1.00</td>\n",
       "      <td>1.00</td>\n",
       "      <td>1.00</td>\n",
       "      <td>1.00</td>\n",
       "    </tr>\n",
       "    <tr>\n",
       "      <th>paperless_billing</th>\n",
       "      <td>4225.0</td>\n",
       "      <td>0.604260</td>\n",
       "      <td>0.489067</td>\n",
       "      <td>0.0</td>\n",
       "      <td>0.00</td>\n",
       "      <td>1.00</td>\n",
       "      <td>1.00</td>\n",
       "      <td>1.00</td>\n",
       "    </tr>\n",
       "    <tr>\n",
       "      <th>monthly_charges</th>\n",
       "      <td>4225.0</td>\n",
       "      <td>65.273243</td>\n",
       "      <td>30.218179</td>\n",
       "      <td>18.4</td>\n",
       "      <td>36.45</td>\n",
       "      <td>70.75</td>\n",
       "      <td>90.35</td>\n",
       "      <td>118.75</td>\n",
       "    </tr>\n",
       "    <tr>\n",
       "      <th>total_charges</th>\n",
       "      <td>4225.0</td>\n",
       "      <td>2320.103183</td>\n",
       "      <td>2297.297588</td>\n",
       "      <td>0.0</td>\n",
       "      <td>392.65</td>\n",
       "      <td>1414.80</td>\n",
       "      <td>3902.45</td>\n",
       "      <td>8684.80</td>\n",
       "    </tr>\n",
       "    <tr>\n",
       "      <th>tenure</th>\n",
       "      <td>4225.0</td>\n",
       "      <td>32.562367</td>\n",
       "      <td>24.755164</td>\n",
       "      <td>0.0</td>\n",
       "      <td>9.00</td>\n",
       "      <td>29.00</td>\n",
       "      <td>56.00</td>\n",
       "      <td>72.00</td>\n",
       "    </tr>\n",
       "    <tr>\n",
       "      <th>churn</th>\n",
       "      <td>4225.0</td>\n",
       "      <td>0.265325</td>\n",
       "      <td>0.441559</td>\n",
       "      <td>0.0</td>\n",
       "      <td>0.00</td>\n",
       "      <td>0.00</td>\n",
       "      <td>1.00</td>\n",
       "      <td>1.00</td>\n",
       "    </tr>\n",
       "    <tr>\n",
       "      <th>female</th>\n",
       "      <td>4225.0</td>\n",
       "      <td>0.496095</td>\n",
       "      <td>0.500044</td>\n",
       "      <td>0.0</td>\n",
       "      <td>0.00</td>\n",
       "      <td>0.00</td>\n",
       "      <td>1.00</td>\n",
       "      <td>1.00</td>\n",
       "    </tr>\n",
       "    <tr>\n",
       "      <th>multiple_lines_No phone service</th>\n",
       "      <td>4225.0</td>\n",
       "      <td>0.092781</td>\n",
       "      <td>0.290160</td>\n",
       "      <td>0.0</td>\n",
       "      <td>0.00</td>\n",
       "      <td>0.00</td>\n",
       "      <td>0.00</td>\n",
       "      <td>1.00</td>\n",
       "    </tr>\n",
       "    <tr>\n",
       "      <th>multiple_lines_Yes</th>\n",
       "      <td>4225.0</td>\n",
       "      <td>0.422959</td>\n",
       "      <td>0.494087</td>\n",
       "      <td>0.0</td>\n",
       "      <td>0.00</td>\n",
       "      <td>0.00</td>\n",
       "      <td>1.00</td>\n",
       "      <td>1.00</td>\n",
       "    </tr>\n",
       "    <tr>\n",
       "      <th>online_security_No internet service</th>\n",
       "      <td>4225.0</td>\n",
       "      <td>0.214438</td>\n",
       "      <td>0.410480</td>\n",
       "      <td>0.0</td>\n",
       "      <td>0.00</td>\n",
       "      <td>0.00</td>\n",
       "      <td>0.00</td>\n",
       "      <td>1.00</td>\n",
       "    </tr>\n",
       "    <tr>\n",
       "      <th>online_security_Yes</th>\n",
       "      <td>4225.0</td>\n",
       "      <td>0.287101</td>\n",
       "      <td>0.452462</td>\n",
       "      <td>0.0</td>\n",
       "      <td>0.00</td>\n",
       "      <td>0.00</td>\n",
       "      <td>1.00</td>\n",
       "      <td>1.00</td>\n",
       "    </tr>\n",
       "    <tr>\n",
       "      <th>online_backup_No internet service</th>\n",
       "      <td>4225.0</td>\n",
       "      <td>0.214438</td>\n",
       "      <td>0.410480</td>\n",
       "      <td>0.0</td>\n",
       "      <td>0.00</td>\n",
       "      <td>0.00</td>\n",
       "      <td>0.00</td>\n",
       "      <td>1.00</td>\n",
       "    </tr>\n",
       "    <tr>\n",
       "      <th>online_backup_Yes</th>\n",
       "      <td>4225.0</td>\n",
       "      <td>0.346982</td>\n",
       "      <td>0.476066</td>\n",
       "      <td>0.0</td>\n",
       "      <td>0.00</td>\n",
       "      <td>0.00</td>\n",
       "      <td>1.00</td>\n",
       "      <td>1.00</td>\n",
       "    </tr>\n",
       "    <tr>\n",
       "      <th>device_protection_No internet service</th>\n",
       "      <td>4225.0</td>\n",
       "      <td>0.214438</td>\n",
       "      <td>0.410480</td>\n",
       "      <td>0.0</td>\n",
       "      <td>0.00</td>\n",
       "      <td>0.00</td>\n",
       "      <td>0.00</td>\n",
       "      <td>1.00</td>\n",
       "    </tr>\n",
       "    <tr>\n",
       "      <th>device_protection_Yes</th>\n",
       "      <td>4225.0</td>\n",
       "      <td>0.345325</td>\n",
       "      <td>0.475531</td>\n",
       "      <td>0.0</td>\n",
       "      <td>0.00</td>\n",
       "      <td>0.00</td>\n",
       "      <td>1.00</td>\n",
       "      <td>1.00</td>\n",
       "    </tr>\n",
       "    <tr>\n",
       "      <th>tech_support_No internet service</th>\n",
       "      <td>4225.0</td>\n",
       "      <td>0.214438</td>\n",
       "      <td>0.410480</td>\n",
       "      <td>0.0</td>\n",
       "      <td>0.00</td>\n",
       "      <td>0.00</td>\n",
       "      <td>0.00</td>\n",
       "      <td>1.00</td>\n",
       "    </tr>\n",
       "    <tr>\n",
       "      <th>tech_support_Yes</th>\n",
       "      <td>4225.0</td>\n",
       "      <td>0.295148</td>\n",
       "      <td>0.456163</td>\n",
       "      <td>0.0</td>\n",
       "      <td>0.00</td>\n",
       "      <td>0.00</td>\n",
       "      <td>1.00</td>\n",
       "      <td>1.00</td>\n",
       "    </tr>\n",
       "    <tr>\n",
       "      <th>streaming_tv_No internet service</th>\n",
       "      <td>4225.0</td>\n",
       "      <td>0.214438</td>\n",
       "      <td>0.410480</td>\n",
       "      <td>0.0</td>\n",
       "      <td>0.00</td>\n",
       "      <td>0.00</td>\n",
       "      <td>0.00</td>\n",
       "      <td>1.00</td>\n",
       "    </tr>\n",
       "    <tr>\n",
       "      <th>streaming_tv_Yes</th>\n",
       "      <td>4225.0</td>\n",
       "      <td>0.396450</td>\n",
       "      <td>0.489218</td>\n",
       "      <td>0.0</td>\n",
       "      <td>0.00</td>\n",
       "      <td>0.00</td>\n",
       "      <td>1.00</td>\n",
       "      <td>1.00</td>\n",
       "    </tr>\n",
       "    <tr>\n",
       "      <th>streaming_movies_No internet service</th>\n",
       "      <td>4225.0</td>\n",
       "      <td>0.214438</td>\n",
       "      <td>0.410480</td>\n",
       "      <td>0.0</td>\n",
       "      <td>0.00</td>\n",
       "      <td>0.00</td>\n",
       "      <td>0.00</td>\n",
       "      <td>1.00</td>\n",
       "    </tr>\n",
       "    <tr>\n",
       "      <th>streaming_movies_Yes</th>\n",
       "      <td>4225.0</td>\n",
       "      <td>0.394793</td>\n",
       "      <td>0.488864</td>\n",
       "      <td>0.0</td>\n",
       "      <td>0.00</td>\n",
       "      <td>0.00</td>\n",
       "      <td>1.00</td>\n",
       "      <td>1.00</td>\n",
       "    </tr>\n",
       "    <tr>\n",
       "      <th>contract_type_One year</th>\n",
       "      <td>4225.0</td>\n",
       "      <td>0.205444</td>\n",
       "      <td>0.404073</td>\n",
       "      <td>0.0</td>\n",
       "      <td>0.00</td>\n",
       "      <td>0.00</td>\n",
       "      <td>0.00</td>\n",
       "      <td>1.00</td>\n",
       "    </tr>\n",
       "    <tr>\n",
       "      <th>contract_type_Two year</th>\n",
       "      <td>4225.0</td>\n",
       "      <td>0.245917</td>\n",
       "      <td>0.430681</td>\n",
       "      <td>0.0</td>\n",
       "      <td>0.00</td>\n",
       "      <td>0.00</td>\n",
       "      <td>0.00</td>\n",
       "      <td>1.00</td>\n",
       "    </tr>\n",
       "    <tr>\n",
       "      <th>internet_service_type_Fiber optic</th>\n",
       "      <td>4225.0</td>\n",
       "      <td>0.445444</td>\n",
       "      <td>0.497074</td>\n",
       "      <td>0.0</td>\n",
       "      <td>0.00</td>\n",
       "      <td>0.00</td>\n",
       "      <td>1.00</td>\n",
       "      <td>1.00</td>\n",
       "    </tr>\n",
       "    <tr>\n",
       "      <th>internet_service_type_None</th>\n",
       "      <td>4225.0</td>\n",
       "      <td>0.214438</td>\n",
       "      <td>0.410480</td>\n",
       "      <td>0.0</td>\n",
       "      <td>0.00</td>\n",
       "      <td>0.00</td>\n",
       "      <td>0.00</td>\n",
       "      <td>1.00</td>\n",
       "    </tr>\n",
       "    <tr>\n",
       "      <th>payment_type_Credit card (automatic)</th>\n",
       "      <td>4225.0</td>\n",
       "      <td>0.218935</td>\n",
       "      <td>0.413573</td>\n",
       "      <td>0.0</td>\n",
       "      <td>0.00</td>\n",
       "      <td>0.00</td>\n",
       "      <td>0.00</td>\n",
       "      <td>1.00</td>\n",
       "    </tr>\n",
       "    <tr>\n",
       "      <th>payment_type_Electronic check</th>\n",
       "      <td>4225.0</td>\n",
       "      <td>0.332544</td>\n",
       "      <td>0.471181</td>\n",
       "      <td>0.0</td>\n",
       "      <td>0.00</td>\n",
       "      <td>0.00</td>\n",
       "      <td>1.00</td>\n",
       "      <td>1.00</td>\n",
       "    </tr>\n",
       "    <tr>\n",
       "      <th>payment_type_Mailed check</th>\n",
       "      <td>4225.0</td>\n",
       "      <td>0.225089</td>\n",
       "      <td>0.417690</td>\n",
       "      <td>0.0</td>\n",
       "      <td>0.00</td>\n",
       "      <td>0.00</td>\n",
       "      <td>0.00</td>\n",
       "      <td>1.00</td>\n",
       "    </tr>\n",
       "  </tbody>\n",
       "</table>\n",
       "</div>"
      ],
      "text/plain": [
       "                                        count         mean          std   min  \\\n",
       "senior_citizen                         4225.0     0.159053     0.365769   0.0   \n",
       "partner                                4225.0     0.479527     0.499640   0.0   \n",
       "dependents                             4225.0     0.305562     0.460700   0.0   \n",
       "phone_service                          4225.0     0.907219     0.290160   0.0   \n",
       "paperless_billing                      4225.0     0.604260     0.489067   0.0   \n",
       "monthly_charges                        4225.0    65.273243    30.218179  18.4   \n",
       "total_charges                          4225.0  2320.103183  2297.297588   0.0   \n",
       "tenure                                 4225.0    32.562367    24.755164   0.0   \n",
       "churn                                  4225.0     0.265325     0.441559   0.0   \n",
       "female                                 4225.0     0.496095     0.500044   0.0   \n",
       "multiple_lines_No phone service        4225.0     0.092781     0.290160   0.0   \n",
       "multiple_lines_Yes                     4225.0     0.422959     0.494087   0.0   \n",
       "online_security_No internet service    4225.0     0.214438     0.410480   0.0   \n",
       "online_security_Yes                    4225.0     0.287101     0.452462   0.0   \n",
       "online_backup_No internet service      4225.0     0.214438     0.410480   0.0   \n",
       "online_backup_Yes                      4225.0     0.346982     0.476066   0.0   \n",
       "device_protection_No internet service  4225.0     0.214438     0.410480   0.0   \n",
       "device_protection_Yes                  4225.0     0.345325     0.475531   0.0   \n",
       "tech_support_No internet service       4225.0     0.214438     0.410480   0.0   \n",
       "tech_support_Yes                       4225.0     0.295148     0.456163   0.0   \n",
       "streaming_tv_No internet service       4225.0     0.214438     0.410480   0.0   \n",
       "streaming_tv_Yes                       4225.0     0.396450     0.489218   0.0   \n",
       "streaming_movies_No internet service   4225.0     0.214438     0.410480   0.0   \n",
       "streaming_movies_Yes                   4225.0     0.394793     0.488864   0.0   \n",
       "contract_type_One year                 4225.0     0.205444     0.404073   0.0   \n",
       "contract_type_Two year                 4225.0     0.245917     0.430681   0.0   \n",
       "internet_service_type_Fiber optic      4225.0     0.445444     0.497074   0.0   \n",
       "internet_service_type_None             4225.0     0.214438     0.410480   0.0   \n",
       "payment_type_Credit card (automatic)   4225.0     0.218935     0.413573   0.0   \n",
       "payment_type_Electronic check          4225.0     0.332544     0.471181   0.0   \n",
       "payment_type_Mailed check              4225.0     0.225089     0.417690   0.0   \n",
       "\n",
       "                                          25%      50%      75%      max  \n",
       "senior_citizen                           0.00     0.00     0.00     1.00  \n",
       "partner                                  0.00     0.00     1.00     1.00  \n",
       "dependents                               0.00     0.00     1.00     1.00  \n",
       "phone_service                            1.00     1.00     1.00     1.00  \n",
       "paperless_billing                        0.00     1.00     1.00     1.00  \n",
       "monthly_charges                         36.45    70.75    90.35   118.75  \n",
       "total_charges                          392.65  1414.80  3902.45  8684.80  \n",
       "tenure                                   9.00    29.00    56.00    72.00  \n",
       "churn                                    0.00     0.00     1.00     1.00  \n",
       "female                                   0.00     0.00     1.00     1.00  \n",
       "multiple_lines_No phone service          0.00     0.00     0.00     1.00  \n",
       "multiple_lines_Yes                       0.00     0.00     1.00     1.00  \n",
       "online_security_No internet service      0.00     0.00     0.00     1.00  \n",
       "online_security_Yes                      0.00     0.00     1.00     1.00  \n",
       "online_backup_No internet service        0.00     0.00     0.00     1.00  \n",
       "online_backup_Yes                        0.00     0.00     1.00     1.00  \n",
       "device_protection_No internet service    0.00     0.00     0.00     1.00  \n",
       "device_protection_Yes                    0.00     0.00     1.00     1.00  \n",
       "tech_support_No internet service         0.00     0.00     0.00     1.00  \n",
       "tech_support_Yes                         0.00     0.00     1.00     1.00  \n",
       "streaming_tv_No internet service         0.00     0.00     0.00     1.00  \n",
       "streaming_tv_Yes                         0.00     0.00     1.00     1.00  \n",
       "streaming_movies_No internet service     0.00     0.00     0.00     1.00  \n",
       "streaming_movies_Yes                     0.00     0.00     1.00     1.00  \n",
       "contract_type_One year                   0.00     0.00     0.00     1.00  \n",
       "contract_type_Two year                   0.00     0.00     0.00     1.00  \n",
       "internet_service_type_Fiber optic        0.00     0.00     1.00     1.00  \n",
       "internet_service_type_None               0.00     0.00     0.00     1.00  \n",
       "payment_type_Credit card (automatic)     0.00     0.00     0.00     1.00  \n",
       "payment_type_Electronic check            0.00     0.00     1.00     1.00  \n",
       "payment_type_Mailed check                0.00     0.00     0.00     1.00  "
      ]
     },
     "execution_count": 4,
     "metadata": {},
     "output_type": "execute_result"
    }
   ],
   "source": [
    "train.describe().T"
   ]
  },
  {
   "attachments": {},
   "cell_type": "markdown",
   "id": "immediate-mirror",
   "metadata": {},
   "source": [
    "## Explore\n",
    "\n",
    "* Does payment type have an affect on churn?\n",
    "* Does having tech support affect churn?\n",
    "* Does internet service type affect churn?\n",
    "* Does having 1+ internet packages affect churn?"
   ]
  },
  {
   "cell_type": "code",
   "execution_count": 5,
   "id": "ea61f7ae",
   "metadata": {},
   "outputs": [],
   "source": [
    "train1 = train\n",
    "train1['internet_packages'] = train1.online_security_Yes + train1.online_backup_Yes + train1.device_protection_Yes + train1.tech_support_Yes + train1.streaming_tv_Yes + train1.streaming_movies_Yes\n",
    "train1['has_int_pack'] = 0\n",
    "train1.loc[train1.internet_packages>=1,'has_int_pack'] = 1"
   ]
  },
  {
   "attachments": {},
   "cell_type": "markdown",
   "id": "23c1e2fd",
   "metadata": {},
   "source": [
    "### 1) Is Churn independent from payment type?\n",
    "* `Churn` is **NOT** independent from `payment type`\n",
    "* Discrete (churn) vs Discrete (payment_type) = $Chi^2$\n",
    "    - $Chi^2$ = 411.59356 \n",
    "    - $p$ = 6.820556e-89\n",
    "* $H_0$: Churn is independent from payment type\n",
    "* $H_a$: Churn is **NOT** independent from payment type"
   ]
  },
  {
   "cell_type": "code",
   "execution_count": 6,
   "id": "4a430fd3",
   "metadata": {},
   "outputs": [
    {
     "name": "stdout",
     "output_type": "stream",
     "text": [
      "Chi2: 411.5935596871652, p-value: 6.820556365758793e-89\n"
     ]
    },
    {
     "data": {
      "image/png": "[encoded data removed]",
      "text/plain": [
       "<Figure size 640x480 with 1 Axes>"
      ]
     },
     "metadata": {},
     "output_type": "display_data"
    }
   ],
   "source": [
    "e.explore_cat(train1,'churn','payment_type')"
   ]
  },
  {
   "attachments": {},
   "cell_type": "markdown",
   "id": "bfd31213",
   "metadata": {},
   "source": [
    "**With an alpha of 0.05 (confidence 95%) the p-value is less than alpha. Therefore, evidence suggests that payment type and churn are not independent from each other. I believe that using `payment_type` in the modeling will have a positive impact on the accuracy.**"
   ]
  },
  {
   "attachments": {},
   "cell_type": "markdown",
   "id": "da0bcae0",
   "metadata": {},
   "source": [
    "### 2) Is Churn independent from internet Service type?\n",
    "* `Churn` is **NOT** independent from `internet service type`\n",
    "* Discrete (churn) vs Discrete (internet_service_type) = $Chi^2$\n",
    "    - $Chi^2$ = 402.162525\n",
    "    - $p$ = 4.693721e-88\n",
    "* $H_0$: Churn is independent from internet service type\n",
    "* $H_a$: Churn is **NOT** independent from internet service type"
   ]
  },
  {
   "cell_type": "code",
   "execution_count": 7,
   "id": "f4edb965",
   "metadata": {},
   "outputs": [
    {
     "name": "stdout",
     "output_type": "stream",
     "text": [
      "Chi2: 402.162525170296, p-value: 4.693720719529299e-88\n"
     ]
    },
    {
     "data": {
      "image/png": "[encoded data removed]",
      "text/plain": [
       "<Figure size 640x480 with 1 Axes>"
      ]
     },
     "metadata": {},
     "output_type": "display_data"
    }
   ],
   "source": [
    "e.explore_cat(train1,'churn','internet_service_type')"
   ]
  },
  {
   "attachments": {},
   "cell_type": "markdown",
   "id": "96f5bfb1",
   "metadata": {},
   "source": [
    "**With an alpha of 0.05 (confidence 95%) the p-value is less than alpha. Therefore, evidence suggests that internet service type and churn are not independent from each other. I believe that using `internet_service_type` in the modeling will have a positive impact on the accuracy.**"
   ]
  },
  {
   "cell_type": "markdown",
   "id": "ac03b713",
   "metadata": {},
   "source": [
    "### 3) Is Churn independent from tech support?\n",
    "* `Churn` is **NOT** independent from `tech support`\n",
    "* Discrete (churn) vs Discrete (tech_support) = $Chi^2$\n",
    "    - $Chi^2$ = 510.699959\n",
    "    - $p$ = 1.267398e-111\n",
    "* $H_0$: Churn is independent from tech support\n",
    "* $H_a$: Churn is **NOT** independent from tech support"
   ]
  },
  {
   "cell_type": "code",
   "execution_count": 8,
   "id": "7dfa94f0",
   "metadata": {},
   "outputs": [
    {
     "name": "stdout",
     "output_type": "stream",
     "text": [
      "Chi2: 510.6999585704251, p-value: 1.2673980725639105e-111\n"
     ]
    },
    {
     "data": {
      "image/png": "[encoded data removed]",
      "text/plain": [
       "<Figure size 640x480 with 1 Axes>"
      ]
     },
     "metadata": {},
     "output_type": "display_data"
    }
   ],
   "source": [
    "e.explore_cat(train1,'churn','tech_support')"
   ]
  },
  {
   "attachments": {},
   "cell_type": "markdown",
   "id": "46d13288",
   "metadata": {},
   "source": [
    "**With an alpha of 0.05 (confidence 95%) the p-value is less than alpha. Therefore, evidence suggests that tech support and churn are not independent from each other. I believe that using `tech_support` in the modeling will have a positive impact on the accuracy.**"
   ]
  },
  {
   "attachments": {},
   "cell_type": "markdown",
   "id": "29c35071",
   "metadata": {},
   "source": [
    "### 4) Is Churn independent from a customer having at least one internet package?\n",
    "* `Churn` is **NOT** independent from having an `internet package`\n",
    "* Discrete (churn) vs Discrete (has_int_pack) = $Chi^2$\n",
    "    - $Chi^2$ = 19.128273312412432\n",
    "    - $p$ = 1.2222085951621455e-05\n",
    "* $H_0$: Churn is independent from having an internet package\n",
    "* $H_a$: Churn is **NOT** independent from having an internet package"
   ]
  },
  {
   "cell_type": "code",
   "execution_count": 9,
   "id": "abe40593",
   "metadata": {},
   "outputs": [
    {
     "name": "stdout",
     "output_type": "stream",
     "text": [
      "Chi2: 19.128273312412432, p-value: 1.2222085951621455e-05\n"
     ]
    },
    {
     "data": {
      "image/png": "[encoded data removed]",
      "text/plain": [
       "<Figure size 640x480 with 1 Axes>"
      ]
     },
     "metadata": {},
     "output_type": "display_data"
    }
   ],
   "source": [
    "e.explore_int(train1,'churn','has_int_pack')"
   ]
  },
  {
   "attachments": {},
   "cell_type": "markdown",
   "id": "b49581d6",
   "metadata": {},
   "source": [
    "**With an alpha of 0.05 (confidence 95%) the p-value is less than alpha. Therefore, evidence suggests that having an internet package and churn are not independent from each other. I believe that using `has_int_pack` in the modeling will have a positive impact on the accuracy.**"
   ]
  },
  {
   "attachments": {},
   "cell_type": "markdown",
   "id": "5c84419d",
   "metadata": {},
   "source": [
    "### Are there any features that are independent from Churn?\n",
    "* `Churn` **is** independent from both `gender` and `phone_service`\n",
    "* Discrete (churn) vs Discrete (gender) = $Chi^2$\n",
    "    - $Chi^2$ = 1.4668271981736136 \n",
    "    - $p$ = 0.22584695828761636\n",
    "* $H_0$: Churn is independent from gender\n",
    "* $H_a$: Churn is **NOT** independent from gender\n",
    "* Discrete (churn) vs Discrete (phone_service) = $Chi^2$\n",
    "    - $Chi^2$ = 0.0 \n",
    "    - $p$ = 1.0\n",
    "* $H_0$: Churn is independent from phone service\n",
    "* $H_a$: Churn is **NOT** independent from phone service"
   ]
  },
  {
   "cell_type": "code",
   "execution_count": 10,
   "id": "e945cfeb",
   "metadata": {},
   "outputs": [
    {
     "name": "stdout",
     "output_type": "stream",
     "text": [
      "Chi2: 1.4668271981736136, p-value: 0.22584695828761636\n"
     ]
    },
    {
     "data": {
      "image/png": "[encoded data removed]",
      "text/plain": [
       "<Figure size 640x480 with 1 Axes>"
      ]
     },
     "metadata": {},
     "output_type": "display_data"
    }
   ],
   "source": [
    "e.explore_cat(train1,'churn','gender')"
   ]
  },
  {
   "cell_type": "code",
   "execution_count": 11,
   "id": "01d1af5d",
   "metadata": {},
   "outputs": [
    {
     "name": "stdout",
     "output_type": "stream",
     "text": [
      "Chi2: 0.0, p-value: 1.0\n"
     ]
    },
    {
     "data": {
      "image/png": "[encoded data removed]",
      "text/plain": [
       "<Figure size 640x480 with 1 Axes>"
      ]
     },
     "metadata": {},
     "output_type": "display_data"
    }
   ],
   "source": [
    "e.explore_int(train1,'churn','phone_service')"
   ]
  },
  {
   "attachments": {},
   "cell_type": "markdown",
   "id": "2b35e5fc",
   "metadata": {},
   "source": [
    "**With an alpha of 0.05 (confidence 95%) the p-values are greater than alpha. Therefore, evidence suggests that gender and phone service vs churn are independent from each other. I believe that using `gender` and `phone_service` in the modeling will not have much of an impact on the accuracy.**"
   ]
  },
  {
   "attachments": {},
   "cell_type": "markdown",
   "id": "iraqi-sellers",
   "metadata": {},
   "source": [
    "## Exploration Summary\n",
    "* Payment type was found to be a driver of churn\n",
    "    - Electronic check being the most common among churn\n",
    "* Internet service type was found to be a driver of churn\n",
    "    - Fiber optic being the most common among churn\n",
    "* Tech support was found to be a driver of churn\n",
    "    - No tech support being the most common among churn\n",
    "* Having an internet package was found to be a driver of churn\n",
    "    - I would like to investigate why without making assumptions\n"
   ]
  },
  {
   "attachments": {},
   "cell_type": "markdown",
   "id": "a573aea7",
   "metadata": {},
   "source": [
    "* Gender and phone service were found to not be a driver of churn"
   ]
  },
  {
   "attachments": {},
   "cell_type": "markdown",
   "id": "a738bfcb",
   "metadata": {},
   "source": [
    "### Features for modeling\n",
    "* At a minimum these features will be used:\n",
    "    - churn (target)\n",
    "    - payment type\n",
    "    - internet service type\n",
    "    - tech support\n",
    "    - having an internet package\n",
    "* Features that will not be used\n",
    "    - gender\n",
    "    - phone service\n",
    "    - multiple lines\n",
    "        - falls in with phone service"
   ]
  },
  {
   "cell_type": "markdown",
   "id": "minus-tulsa",
   "metadata": {},
   "source": [
    "## Modeling"
   ]
  },
  {
   "attachments": {},
   "cell_type": "markdown",
   "id": "hydraulic-spectrum",
   "metadata": {},
   "source": [
    "* Accuracy will be the evaluation metric\n",
    "* Target feature is Churn\n",
    "    - 27% Churn\n",
    "    - 73% Active\n",
    "* Guessing Active for every customer gives an accuracy of 73%\n",
    "    - 73% will be the baseline accuracy\n",
    "* Models will be developed and evaluated using 4 different model types and various hyperparameter configurations\n",
    "    - Decision Tree\n",
    "    - Random Forest\n",
    "    - KNN\n",
    "    - Logistic Regression\n",
    "* Models will be evaluated on train and validate datasets\n",
    "* Best performing model will be the only one evaluated on the test dataset"
   ]
  },
  {
   "cell_type": "code",
   "execution_count": 12,
   "id": "ranging-rebecca",
   "metadata": {},
   "outputs": [
    {
     "name": "stdout",
     "output_type": "stream",
     "text": [
      "Baseline: 73.47% Accuracy\n"
     ]
    }
   ],
   "source": [
    "e.baseline(train.churn)"
   ]
  },
  {
   "cell_type": "markdown",
   "id": "emotional-purchase",
   "metadata": {},
   "source": [
    "### Best 3 Models\n",
    "* Show the three best model results obtained using your selected features to predict the target variable\n",
    "* Typically students will show the top models they are able to generate for three different model types"
   ]
  },
  {
   "cell_type": "markdown",
   "id": "gentle-capability",
   "metadata": {},
   "source": [
    "## You may use this as a template for how to introduce your models:"
   ]
  },
  {
   "cell_type": "markdown",
   "id": "intensive-vietnamese",
   "metadata": {},
   "source": [
    "### Model Type"
   ]
  },
  {
   "cell_type": "code",
   "execution_count": 13,
   "id": "colonial-newport",
   "metadata": {},
   "outputs": [],
   "source": [
    "# Code that runs the best model in that model type goes here \n",
    "# (This may be imported from a module)"
   ]
  },
  {
   "cell_type": "markdown",
   "id": "distinguished-abuse",
   "metadata": {},
   "source": [
    "Printout of model code should read: <br>\n",
    "\"Model Type\" <br>\n",
    "\"evaluation metric\" on train: \"evaluation result\" <br>\n",
    "\"evaluation metric\" on validate: \"evaluation result\""
   ]
  },
  {
   "cell_type": "markdown",
   "id": "regulated-fellowship",
   "metadata": {},
   "source": [
    "### Test Model\n",
    "* Choose the best model out of the three as you best model and explain why you have chosen it\n",
    "* Explain that you will now run your final model on test data to gauge how it will perform on unseen data"
   ]
  },
  {
   "cell_type": "code",
   "execution_count": 14,
   "id": "optical-quilt",
   "metadata": {},
   "outputs": [],
   "source": [
    "# Code that runs the best overall model on test data (this may be imported from a module)"
   ]
  },
  {
   "cell_type": "markdown",
   "id": "motivated-recycling",
   "metadata": {},
   "source": [
    "Printout of model code should read: <br>\n",
    "\"Model Type\" <br>\n",
    "\"evaluation metric\" on Test: \"evaluation result\" <br>"
   ]
  },
  {
   "cell_type": "markdown",
   "id": "bright-evans",
   "metadata": {},
   "source": [
    "### Modeling Wrap \n",
    "* Give a final interpretation of how the models test score compares to the baseline and weather you would recommend this model for production"
   ]
  },
  {
   "cell_type": "markdown",
   "id": "tutorial-twelve",
   "metadata": {},
   "source": [
    "## Conclusion\n",
    "\n",
    "### Summery\n",
    "* Summarize your findings and answer the questions you brought up in explore \n",
    "* Summarize how drivers discovered lead or did not lead to a successful model \n",
    "\n",
    "### Recommendations\n",
    "* Recommendations are actions the stakeholder should take based on your insights\n",
    "\n",
    "### Next Steps\n",
    "* Next Steps are what you, as a Data Scientist, would do if provided more time to work on the project"
   ]
  },
  {
   "cell_type": "markdown",
   "id": "tender-source",
   "metadata": {},
   "source": [
    "**Where there is code in your report there should also be code comments telling the reader what each code block is doing. This is true for any and all code blocks even if you are using a function to import code from a module.**\n",
    "<br>\n",
    "<br>\n",
    "**Your Notebook should contain adequate markdown that documents your thought process, decision making, and navigation through the pipeline. As a Data Scientist, your job does not end with making data discoveries. It includes effectively communicating those discoveries as well. This means documentation is a critical part of your job.**"
   ]
  },
  {
   "cell_type": "markdown",
   "id": "frank-castle",
   "metadata": {},
   "source": [
    "# README\n",
    "\n",
    "Your README should contain all of the following elements:\n",
    "\n",
    "* **Title** Gives the name of your project\n",
    "* **Project Description** Describes what your project is and why it is important \n",
    "* **Project Goal** Clearly states what your project sets out to do and how the information gained can be applied to the real world\n",
    "* **Initial Hypotheses** Initial questions used to focus your project \n",
    "* **Project Plan** Guides the reader through the different stages of the pipeline as they relate to your project\n",
    "* **Data Dictionary** Gives a definition for each of the features used in your report and the units they are measured in, if applicable\n",
    "* **Steps to Reproduce** Gives instructions for reproducing your work. i.e. Running your notebook on someone else's computer."
   ]
  }
 ],
 "metadata": {
  "kernelspec": {
   "display_name": "Python 3",
   "language": "python",
   "name": "python3"
  },
  "language_info": {
   "codemirror_mode": {
    "name": "ipython",
    "version": 3
   },
   "file_extension": ".py",
   "mimetype": "text/x-python",
   "name": "python",
   "nbconvert_exporter": "python",
   "pygments_lexer": "ipython3",
   "version": "3.9.13"
  }
 },
 "nbformat": 4,
 "nbformat_minor": 5
}
